{
 "cells": [
  {
   "cell_type": "code",
   "execution_count": 1,
   "metadata": {},
   "outputs": [
    {
     "name": "stdout",
     "output_type": "stream",
     "text": [
      "courtney_aug_oct_2022_baseline_recordings/1_raw_edf/22-Oct-H.edf courtney_aug_oct_2022_baseline_recordings/2_labels/22-Oct-H.xls\n",
      "courtney_aug_oct_2022_baseline_recordings/1_raw_edf/22-Aug-D.edf courtney_aug_oct_2022_baseline_recordings/2_labels/22-Aug-D.xls\n",
      "courtney_aug_oct_2022_baseline_recordings/1_raw_edf/22-Oct-E.edf courtney_aug_oct_2022_baseline_recordings/2_labels/22-Oct-E.xls\n",
      "courtney_aug_oct_2022_baseline_recordings/1_raw_edf/22-Oct-G.edf courtney_aug_oct_2022_baseline_recordings/2_labels/22-Oct-G.xls\n",
      "courtney_aug_oct_2022_baseline_recordings/1_raw_edf/22-Aug-H.edf courtney_aug_oct_2022_baseline_recordings/2_labels/22-Aug-H.xls\n",
      "courtney_aug_oct_2022_baseline_recordings/1_raw_edf/22-Aug-F.edf courtney_aug_oct_2022_baseline_recordings/2_labels/22-Aug-F.xls\n",
      "courtney_aug_oct_2022_baseline_recordings/1_raw_edf/22-Aug-B.edf courtney_aug_oct_2022_baseline_recordings/2_labels/22-Aug-B.xls\n",
      "courtney_aug_oct_2022_baseline_recordings/1_raw_edf/22-Oct-D.edf courtney_aug_oct_2022_baseline_recordings/2_labels/22-Oct-D.xls\n",
      "courtney_aug_oct_2022_baseline_recordings/1_raw_edf/22-Aug-E.edf courtney_aug_oct_2022_baseline_recordings/2_labels/22-Aug-E.xls\n"
     ]
    }
   ],
   "source": [
    "import sqlite3\n",
    "from mne.io import read_raw_edf\n",
    "import pandas as pd\n",
    "import os\n",
    "import datetime\n",
    "import torch\n",
    "import numpy as np\n",
    "\n",
    "edf_files = os.listdir(f'courtney_aug_oct_2022_baseline_recordings/1_raw_edf')\n",
    "label_files = os.listdir(f'courtney_aug_oct_2022_baseline_recordings/2_labels')\n",
    "\n",
    "ids = [f.replace('.edf','') for f in edf_files if any([f.replace('.edf','') in label for label in label_files])]\n",
    "\n",
    "edf_files = [f'courtney_aug_oct_2022_baseline_recordings/1_raw_edf/{id}.edf' for id in ids]\n",
    "label_files = [f'courtney_aug_oct_2022_baseline_recordings/2_labels/{id}.xls' for id in ids]\n",
    "\n",
    "for edf,label in zip(edf_files,label_files):\n",
    "    print(edf,label)"
   ]
  },
  {
   "cell_type": "code",
   "execution_count": 2,
   "metadata": {},
   "outputs": [
    {
     "name": "stdout",
     "output_type": "stream",
     "text": [
      "22-Oct-H\n",
      "638024801200000000\n",
      "32\n",
      "32\n",
      "torch.Size([41399, 5000]) torch.Size([41399, 5000]) torch.Size([41399, 3])\n"
     ]
    }
   ],
   "source": [
    "for id in ids[:1]:\n",
    "    print(id)\n",
    "    try:\n",
    "        conn = sqlite3.connect(f'courtney_aug_oct_2022_baseline_recordings/0_raw_zdb/{id}.zdb')\n",
    "    except Exception as e:\n",
    "        print(e)\n",
    "    cur = conn.cursor()\n",
    "    query = \"SELECT value FROM internal_property WHERE key='RecordingStart'\"\n",
    "    cur.execute(query)\n",
    "    result = cur.fetchall()\n",
    "    recording_start = int(result[0][0])\n",
    "    query = \"SELECT value FROM internal_property WHERE key='RecordingStop'\"\n",
    "    cur.execute(query)\n",
    "    result = cur.fetchall()\n",
    "    recording_stop = int(result[0][0])\n",
    "    length_ns = recording_stop - recording_start # ns\n",
    "    length_s = length_ns * 1e-7 # s\n",
    "    hh = length_s // 3600\n",
    "    mm = (length_s % 3600) // 60\n",
    "    ss = ((length_s % 3600) % 60)\n",
    "    # print(hh,mm,ss,length_s)\n",
    "    # print(recording_start)\n",
    "    # print(recording_stop)\n",
    "\n",
    "    fs = 500\n",
    "    raw = read_raw_edf(f'courtney_aug_oct_2022_baseline_recordings/1_raw_edf/{id}.edf', \n",
    "                    verbose=False, \n",
    "                    preload=False,\n",
    "                    include=['EEG 1','EEG 2'])\n",
    "    data = raw.get_data()\n",
    "    eeg,emg = data[0],data[1]\n",
    "    measurement_date = raw.info[\"meas_date\"]\n",
    "    measurement_date = measurement_date.replace(tzinfo=None)\n",
    "    edf_starting_timestamp = int((measurement_date - datetime.datetime(1, 1, 1)).total_seconds() * 10**7)\n",
    "\n",
    "    query = \"SELECT starts_at,type FROM scoring_marker\"\n",
    "    cur.execute(query)\n",
    "    result = cur.fetchall()\n",
    "    df = pd.DataFrame(result)\n",
    "    df.loc[df[1] == 'Sleep-Wake',1] = 2\n",
    "    df.loc[df[1] == 'Sleep-SWS',1] = 1\n",
    "    df.loc[df[1] == 'Sleep-Paradoxical',1] = 0\n",
    "    df = df.loc[~((df[1] != 2) & (df[1] != 1) & (df[1] != 0))]\n",
    "    df.reset_index(drop=True,inplace=True)\n",
    "\n",
    "    while True:\n",
    "        scoring_starting_timestamp = df.iloc[0,0]\n",
    "        print(scoring_starting_timestamp)\n",
    "        scoring_offset_from_edf_starting_timestamp_seconds = int((scoring_starting_timestamp - edf_starting_timestamp)*1e-7)\n",
    "        print(scoring_offset_from_edf_starting_timestamp_seconds)\n",
    "        if scoring_offset_from_edf_starting_timestamp_seconds < 0:\n",
    "            print('scoring less than 0')\n",
    "            df = df.drop(0).reset_index(drop=True)\n",
    "        else:\n",
    "            break\n",
    "        \n",
    "    print(scoring_offset_from_edf_starting_timestamp_seconds)\n",
    "    eeg = eeg[scoring_offset_from_edf_starting_timestamp_seconds*fs:]\n",
    "    emg = emg[scoring_offset_from_edf_starting_timestamp_seconds*fs:]\n",
    "\n",
    "    if len(df) > eeg.shape[0] / fs / 10:\n",
    "        if eeg.shape[0] % 5000 != 0:\n",
    "            eeg = np.concatenate([eeg,np.zeros((5000 - eeg.shape[0] % 5000))])\n",
    "            emg = np.concatenate([emg,np.zeros((5000 - emg.shape[0] % 5000))])\n",
    "    else:\n",
    "        eeg = eeg[:len(df)*5000]\n",
    "        emg = emg[:len(df)*5000]\n",
    "\n",
    "    eeg = eeg.reshape(-1,5000)\n",
    "    emg = emg.reshape(-1,5000)\n",
    "\n",
    "    eeg = torch.from_numpy(eeg).float()\n",
    "    emg = torch.from_numpy(emg).float()\n",
    "    y = torch.nn.functional.one_hot(torch.from_numpy(df[1].values.astype('int')),num_classes=3).float()\n",
    "\n",
    "    if len(eeg) < len(df):\n",
    "        y = y[:len(eeg)]\n",
    "\n",
    "    print(eeg.shape,emg.shape,y.shape)\n",
    "\n",
    "    torch.save((eeg,emg,y),f'pt_courtney_eeg_emg/{id}.pt')"
   ]
  },
  {
   "cell_type": "code",
   "execution_count": null,
   "metadata": {},
   "outputs": [],
   "source": []
  },
  {
   "cell_type": "code",
   "execution_count": null,
   "metadata": {},
   "outputs": [],
   "source": []
  },
  {
   "cell_type": "code",
   "execution_count": null,
   "metadata": {},
   "outputs": [],
   "source": []
  },
  {
   "cell_type": "code",
   "execution_count": null,
   "metadata": {},
   "outputs": [],
   "source": []
  },
  {
   "cell_type": "code",
   "execution_count": null,
   "metadata": {},
   "outputs": [],
   "source": []
  },
  {
   "cell_type": "code",
   "execution_count": null,
   "metadata": {},
   "outputs": [],
   "source": []
  },
  {
   "cell_type": "code",
   "execution_count": null,
   "metadata": {},
   "outputs": [],
   "source": []
  },
  {
   "cell_type": "code",
   "execution_count": null,
   "metadata": {},
   "outputs": [],
   "source": []
  },
  {
   "cell_type": "code",
   "execution_count": null,
   "metadata": {},
   "outputs": [],
   "source": [
    "df"
   ]
  }
 ],
 "metadata": {
  "kernelspec": {
   "display_name": "Python 3",
   "language": "python",
   "name": "python3"
  },
  "language_info": {
   "codemirror_mode": {
    "name": "ipython",
    "version": 3
   },
   "file_extension": ".py",
   "mimetype": "text/x-python",
   "name": "python",
   "nbconvert_exporter": "python",
   "pygments_lexer": "ipython3",
   "version": "3.10.12"
  },
  "orig_nbformat": 4
 },
 "nbformat": 4,
 "nbformat_minor": 2
}
