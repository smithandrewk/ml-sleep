{
 "cells": [
  {
   "cell_type": "code",
   "execution_count": null,
   "metadata": {},
   "outputs": [
    {
     "name": "stderr",
     "output_type": "stream",
     "text": [
      "/tmp/ipykernel_356628/989082379.py:28: FutureWarning: You are using `torch.load` with `weights_only=False` (the current default value), which uses the default pickle module implicitly. It is possible to construct malicious pickle data which will execute arbitrary code during unpickling (See https://github.com/pytorch/pytorch/blob/main/SECURITY.md#untrusted-models for more details). In a future release, the default value for `weights_only` will be flipped to `True`. This limits the functions that could be executed during unpickling. Arbitrary objects will no longer be allowed to be loaded via this mode unless they are explicitly allowlisted by the user via `torch.serialization.add_safe_globals`. We recommend you start setting `weights_only=True` for any use case where you don't have full control of the loaded file. Please open an issue on GitHub for any issues related to this experimental feature.\n",
      "  eeg,emg,y = torch.load(f'../pt_courtney_eeg_emg/22-Oct-H.pt')\n"
     ]
    }
   ],
   "source": [
    "import torch\n",
    "import os\n",
    "from torch.utils.data import TensorDataset,ConcatDataset,DataLoader\n",
    "import matplotlib.pyplot as plt\n",
    "from torch import nn\n",
    "from torch.nn.functional import relu\n",
    "from tqdm import tqdm\n",
    "from sklearn.preprocessing import RobustScaler\n",
    "import seaborn as sns\n",
    "import torch\n",
    "import torch.nn as nn\n",
    "import torch.nn.functional as F\n",
    "from torch.utils.data import Dataset, DataLoader\n",
    "\n",
    "from tqdm import tqdm\n",
    "from sklearn.metrics import f1_score\n",
    "import numpy as np\n",
    "\n",
    "import torch\n",
    "from torch import nn\n",
    "\n",
    "from lib.utils import get_dataloader\n",
    "from lib.utils import SleepStageClassifier\n",
    "from lib.utils import ekyn_ids,snezana_mice_ids,courtney_ids\n",
    "from sklearn.metrics import ConfusionMatrixDisplay,classification_report\n",
    "from lib.utils import calculate_f1,plot_training_progress\n",
    "import torch\n",
    "eeg,emg,y = torch.load(f'../pt_courtney_eeg_emg/22-Oct-H.pt')\n",
    "\n",
    "mean = eeg.flatten().mean()\n",
    "std = eeg.flatten().std()\n",
    "eeg = (eeg - mean) / (std + 1e-5)\n",
    "eeg = eeg[:,::10]\n",
    "\n",
    "mean = emg.flatten().mean()\n",
    "std = emg.flatten().std()\n",
    "emg = (emg - mean) / (std + 1e-5)\n",
    "emg = emg[:,::10]\n",
    "\n",
    "X = torch.cat([eeg.unsqueeze(1),emg.unsqueeze(1)],dim=1)\n",
    "\n",
    "class SleepStageClassifier(nn.Module):\n",
    "    def __init__(self, *args, **kwargs):\n",
    "        super().__init__(*args, **kwargs)\n",
    "        self.stem = nn.Conv1d(in_channels=2,out_channels=64,kernel_size=7)\n",
    "        self.mp1 = nn.MaxPool1d(kernel_size=2)\n",
    "        self.convs = nn.ModuleList([nn.Conv1d(in_channels=64,out_channels=64,kernel_size=3) for _ in range(1)])\n",
    "        self.gap = nn.AdaptiveAvgPool1d(output_size=1)\n",
    "        self.fc1 = nn.Linear(in_features=64,out_features=32)\n",
    "        self.dropout = nn.Dropout(p=0.5)\n",
    "        self.fc2 = nn.Linear(in_features=32,out_features=3)\n",
    "    def forward(self,x):\n",
    "        x = self.stem(x)\n",
    "        x = nn.functional.relu(x)\n",
    "        for conv in self.convs:\n",
    "            x = conv(x)\n",
    "            x = nn.functional.relu(x)\n",
    "        x = self.gap(x)\n",
    "        x = x.flatten(1,2)\n",
    "        x = self.fc1(x)\n",
    "        x = nn.functional.relu(x)\n",
    "        x = self.dropout(x)\n",
    "        x = self.fc2(x)\n",
    "        return x\n",
    "    \n",
    "device = 'cuda'\n",
    "conditions = ['PF','Vehicle']\n",
    "device = torch.device(\"cuda\" if torch.cuda.is_available() else \"cpu\")\n",
    "model = SleepStageClassifier()\n",
    "optimizer = torch.optim.AdamW(model.parameters(),lr=3e-4)\n",
    "criterion = nn.CrossEntropyLoss()"
   ]
  },
  {
   "cell_type": "code",
   "execution_count": 33,
   "metadata": {},
   "outputs": [],
   "source": [
    "from sklearn.model_selection import train_test_split\n",
    "X_train, X_test, y_train, y_test = train_test_split(X,y,test_size=0.2,random_state=42)\n",
    "trainloader = DataLoader(TensorDataset(X_train,y_train),batch_size=512,shuffle=True)\n",
    "testloader = DataLoader(TensorDataset(X_test,y_test),batch_size=512,shuffle=True)"
   ]
  },
  {
   "cell_type": "code",
   "execution_count": null,
   "metadata": {},
   "outputs": [
    {
     "name": "stderr",
     "output_type": "stream",
     "text": [
      "100%|██████████| 65/65 [00:00<00:00, 70.27it/s]\n"
     ]
    },
    {
     "name": "stdout",
     "output_type": "stream",
     "text": [
      "Epoch 0: Train Loss: 0.2215, Test Loss: 0.1731\n",
      "Train F1: 0.3464, Test F1: 0.4891\n",
      "Best Test Loss: 0.1731 (Epoch 0)\n",
      "Best Test F1: 0.4891 (Epoch 0)\n"
     ]
    },
    {
     "name": "stderr",
     "output_type": "stream",
     "text": [
      "100%|██████████| 65/65 [00:00<00:00, 102.48it/s]\n"
     ]
    },
    {
     "name": "stdout",
     "output_type": "stream",
     "text": [
      "Epoch 1: Train Loss: 0.1432, Test Loss: 0.1074\n",
      "Train F1: 0.5444, Test F1: 0.5626\n",
      "Best Test Loss: 0.1074 (Epoch 1)\n",
      "Best Test F1: 0.5626 (Epoch 1)\n"
     ]
    },
    {
     "name": "stderr",
     "output_type": "stream",
     "text": [
      "100%|██████████| 65/65 [00:00<00:00, 84.97it/s]\n"
     ]
    },
    {
     "name": "stdout",
     "output_type": "stream",
     "text": [
      "Epoch 2: Train Loss: 0.0996, Test Loss: 0.0939\n",
      "Train F1: 0.5664, Test F1: 0.5629\n",
      "Best Test Loss: 0.0939 (Epoch 2)\n",
      "Best Test F1: 0.5629 (Epoch 2)\n"
     ]
    },
    {
     "name": "stderr",
     "output_type": "stream",
     "text": [
      "100%|██████████| 65/65 [00:00<00:00, 101.81it/s]\n"
     ]
    },
    {
     "name": "stdout",
     "output_type": "stream",
     "text": [
      "Epoch 3: Train Loss: 0.0937, Test Loss: 0.0908\n",
      "Train F1: 0.5677, Test F1: 0.5659\n",
      "Best Test Loss: 0.0908 (Epoch 3)\n",
      "Best Test F1: 0.5659 (Epoch 3)\n"
     ]
    },
    {
     "name": "stderr",
     "output_type": "stream",
     "text": [
      "100%|██████████| 65/65 [00:00<00:00, 101.84it/s]\n"
     ]
    },
    {
     "name": "stdout",
     "output_type": "stream",
     "text": [
      "Epoch 4: Train Loss: 0.0901, Test Loss: 0.0873\n",
      "Train F1: 0.5691, Test F1: 0.5669\n",
      "Best Test Loss: 0.0873 (Epoch 4)\n",
      "Best Test F1: 0.5669 (Epoch 4)\n"
     ]
    },
    {
     "name": "stderr",
     "output_type": "stream",
     "text": [
      "100%|██████████| 65/65 [00:00<00:00, 101.69it/s]\n"
     ]
    },
    {
     "name": "stdout",
     "output_type": "stream",
     "text": [
      "Epoch 5: Train Loss: 0.0867, Test Loss: 0.0839\n",
      "Train F1: 0.5704, Test F1: 0.5677\n",
      "Best Test Loss: 0.0839 (Epoch 5)\n",
      "Best Test F1: 0.5677 (Epoch 5)\n"
     ]
    },
    {
     "name": "stderr",
     "output_type": "stream",
     "text": [
      "100%|██████████| 65/65 [00:00<00:00, 101.59it/s]\n"
     ]
    },
    {
     "name": "stdout",
     "output_type": "stream",
     "text": [
      "Epoch 6: Train Loss: 0.0837, Test Loss: 0.0833\n",
      "Train F1: 0.5709, Test F1: 0.5656\n",
      "Best Test Loss: 0.0833 (Epoch 6)\n",
      "Best Test F1: 0.5677 (Epoch 5)\n"
     ]
    },
    {
     "name": "stderr",
     "output_type": "stream",
     "text": [
      "100%|██████████| 65/65 [00:00<00:00, 101.45it/s]\n"
     ]
    },
    {
     "name": "stdout",
     "output_type": "stream",
     "text": [
      "Epoch 7: Train Loss: 0.0813, Test Loss: 0.0815\n",
      "Train F1: 0.5714, Test F1: 0.5675\n",
      "Best Test Loss: 0.0815 (Epoch 7)\n",
      "Best Test F1: 0.5677 (Epoch 5)\n"
     ]
    },
    {
     "name": "stderr",
     "output_type": "stream",
     "text": [
      "100%|██████████| 65/65 [00:00<00:00, 101.57it/s]\n"
     ]
    },
    {
     "name": "stdout",
     "output_type": "stream",
     "text": [
      "Epoch 8: Train Loss: 0.0792, Test Loss: 0.0787\n",
      "Train F1: 0.5726, Test F1: 0.5747\n",
      "Best Test Loss: 0.0787 (Epoch 8)\n",
      "Best Test F1: 0.5747 (Epoch 8)\n"
     ]
    },
    {
     "name": "stderr",
     "output_type": "stream",
     "text": [
      "100%|██████████| 65/65 [00:00<00:00, 101.83it/s]\n"
     ]
    },
    {
     "name": "stdout",
     "output_type": "stream",
     "text": [
      "Epoch 9: Train Loss: 0.0767, Test Loss: 0.0758\n",
      "Train F1: 0.5946, Test F1: 0.6234\n",
      "Best Test Loss: 0.0758 (Epoch 9)\n",
      "Best Test F1: 0.6234 (Epoch 9)\n"
     ]
    },
    {
     "name": "stderr",
     "output_type": "stream",
     "text": [
      "100%|██████████| 65/65 [00:00<00:00, 101.86it/s]\n"
     ]
    },
    {
     "name": "stdout",
     "output_type": "stream",
     "text": [
      "Epoch 10: Train Loss: 0.0736, Test Loss: 0.0736\n",
      "Train F1: 0.6825, Test F1: 0.7443\n",
      "Best Test Loss: 0.0736 (Epoch 10)\n",
      "Best Test F1: 0.7443 (Epoch 10)\n"
     ]
    },
    {
     "name": "stderr",
     "output_type": "stream",
     "text": [
      "100%|██████████| 65/65 [00:00<00:00, 101.81it/s]\n"
     ]
    },
    {
     "name": "stdout",
     "output_type": "stream",
     "text": [
      "Epoch 11: Train Loss: 0.0703, Test Loss: 0.0697\n",
      "Train F1: 0.7954, Test F1: 0.7995\n",
      "Best Test Loss: 0.0697 (Epoch 11)\n",
      "Best Test F1: 0.7995 (Epoch 11)\n"
     ]
    },
    {
     "name": "stderr",
     "output_type": "stream",
     "text": [
      "100%|██████████| 65/65 [00:00<00:00, 102.16it/s]\n"
     ]
    },
    {
     "name": "stdout",
     "output_type": "stream",
     "text": [
      "Epoch 12: Train Loss: 0.0675, Test Loss: 0.0673\n",
      "Train F1: 0.8335, Test F1: 0.8317\n",
      "Best Test Loss: 0.0673 (Epoch 12)\n",
      "Best Test F1: 0.8317 (Epoch 12)\n"
     ]
    },
    {
     "name": "stderr",
     "output_type": "stream",
     "text": [
      "100%|██████████| 65/65 [00:00<00:00, 101.56it/s]\n"
     ]
    },
    {
     "name": "stdout",
     "output_type": "stream",
     "text": [
      "Epoch 13: Train Loss: 0.0658, Test Loss: 0.0650\n",
      "Train F1: 0.8443, Test F1: 0.8403\n",
      "Best Test Loss: 0.0650 (Epoch 13)\n",
      "Best Test F1: 0.8403 (Epoch 13)\n"
     ]
    },
    {
     "name": "stderr",
     "output_type": "stream",
     "text": [
      "100%|██████████| 65/65 [00:00<00:00, 101.97it/s]\n"
     ]
    },
    {
     "name": "stdout",
     "output_type": "stream",
     "text": [
      "Epoch 14: Train Loss: 0.0639, Test Loss: 0.0637\n",
      "Train F1: 0.8507, Test F1: 0.8427\n",
      "Best Test Loss: 0.0637 (Epoch 14)\n",
      "Best Test F1: 0.8427 (Epoch 14)\n"
     ]
    },
    {
     "name": "stderr",
     "output_type": "stream",
     "text": [
      "100%|██████████| 65/65 [00:00<00:00, 102.02it/s]\n"
     ]
    },
    {
     "name": "stdout",
     "output_type": "stream",
     "text": [
      "Epoch 15: Train Loss: 0.0628, Test Loss: 0.0645\n",
      "Train F1: 0.8516, Test F1: 0.8498\n",
      "Best Test Loss: 0.0637 (Epoch 14)\n",
      "Best Test F1: 0.8498 (Epoch 15)\n"
     ]
    },
    {
     "name": "stderr",
     "output_type": "stream",
     "text": [
      "100%|██████████| 65/65 [00:00<00:00, 102.24it/s]\n"
     ]
    },
    {
     "name": "stdout",
     "output_type": "stream",
     "text": [
      "Epoch 16: Train Loss: 0.0621, Test Loss: 0.0624\n",
      "Train F1: 0.8542, Test F1: 0.8521\n",
      "Best Test Loss: 0.0624 (Epoch 16)\n",
      "Best Test F1: 0.8521 (Epoch 16)\n"
     ]
    },
    {
     "name": "stderr",
     "output_type": "stream",
     "text": [
      "100%|██████████| 65/65 [00:00<00:00, 102.19it/s]\n"
     ]
    },
    {
     "name": "stdout",
     "output_type": "stream",
     "text": [
      "Epoch 17: Train Loss: 0.0612, Test Loss: 0.0627\n",
      "Train F1: 0.8556, Test F1: 0.8518\n",
      "Best Test Loss: 0.0624 (Epoch 16)\n",
      "Best Test F1: 0.8521 (Epoch 16)\n"
     ]
    },
    {
     "name": "stderr",
     "output_type": "stream",
     "text": [
      "100%|██████████| 65/65 [00:00<00:00, 82.71it/s]\n"
     ]
    },
    {
     "name": "stdout",
     "output_type": "stream",
     "text": [
      "Epoch 18: Train Loss: 0.0608, Test Loss: 0.0616\n",
      "Train F1: 0.8572, Test F1: 0.8532\n",
      "Best Test Loss: 0.0616 (Epoch 18)\n",
      "Best Test F1: 0.8532 (Epoch 18)\n"
     ]
    },
    {
     "name": "stderr",
     "output_type": "stream",
     "text": [
      "100%|██████████| 65/65 [00:00<00:00, 102.21it/s]\n"
     ]
    },
    {
     "name": "stdout",
     "output_type": "stream",
     "text": [
      "Epoch 19: Train Loss: 0.0601, Test Loss: 0.0614\n",
      "Train F1: 0.8565, Test F1: 0.8563\n",
      "Best Test Loss: 0.0614 (Epoch 19)\n",
      "Best Test F1: 0.8563 (Epoch 19)\n"
     ]
    },
    {
     "name": "stderr",
     "output_type": "stream",
     "text": [
      "100%|██████████| 65/65 [00:00<00:00, 102.03it/s]\n"
     ]
    },
    {
     "name": "stdout",
     "output_type": "stream",
     "text": [
      "Epoch 20: Train Loss: 0.0596, Test Loss: 0.0609\n",
      "Train F1: 0.8588, Test F1: 0.8573\n",
      "Best Test Loss: 0.0609 (Epoch 20)\n",
      "Best Test F1: 0.8573 (Epoch 20)\n"
     ]
    },
    {
     "name": "stderr",
     "output_type": "stream",
     "text": [
      "100%|██████████| 65/65 [00:00<00:00, 102.34it/s]\n"
     ]
    },
    {
     "name": "stdout",
     "output_type": "stream",
     "text": [
      "Epoch 21: Train Loss: 0.0594, Test Loss: 0.0601\n",
      "Train F1: 0.8592, Test F1: 0.8588\n",
      "Best Test Loss: 0.0601 (Epoch 21)\n",
      "Best Test F1: 0.8588 (Epoch 21)\n"
     ]
    },
    {
     "name": "stderr",
     "output_type": "stream",
     "text": [
      "100%|██████████| 65/65 [00:00<00:00, 102.27it/s]\n"
     ]
    },
    {
     "name": "stdout",
     "output_type": "stream",
     "text": [
      "Epoch 22: Train Loss: 0.0589, Test Loss: 0.0588\n",
      "Train F1: 0.8617, Test F1: 0.8601\n",
      "Best Test Loss: 0.0588 (Epoch 22)\n",
      "Best Test F1: 0.8601 (Epoch 22)\n"
     ]
    },
    {
     "name": "stderr",
     "output_type": "stream",
     "text": [
      "100%|██████████| 65/65 [00:00<00:00, 102.22it/s]\n"
     ]
    },
    {
     "name": "stdout",
     "output_type": "stream",
     "text": [
      "Epoch 23: Train Loss: 0.0585, Test Loss: 0.0610\n",
      "Train F1: 0.8620, Test F1: 0.8604\n",
      "Best Test Loss: 0.0588 (Epoch 22)\n",
      "Best Test F1: 0.8604 (Epoch 23)\n"
     ]
    },
    {
     "name": "stderr",
     "output_type": "stream",
     "text": [
      "100%|██████████| 65/65 [00:00<00:00, 81.11it/s]\n"
     ]
    },
    {
     "name": "stdout",
     "output_type": "stream",
     "text": [
      "Epoch 24: Train Loss: 0.0583, Test Loss: 0.0602\n",
      "Train F1: 0.8630, Test F1: 0.8611\n",
      "Best Test Loss: 0.0588 (Epoch 22)\n",
      "Best Test F1: 0.8611 (Epoch 24)\n"
     ]
    },
    {
     "name": "stderr",
     "output_type": "stream",
     "text": [
      "100%|██████████| 65/65 [00:00<00:00, 102.40it/s]\n"
     ]
    },
    {
     "name": "stdout",
     "output_type": "stream",
     "text": [
      "Epoch 25: Train Loss: 0.0578, Test Loss: 0.0588\n",
      "Train F1: 0.8632, Test F1: 0.8606\n",
      "Best Test Loss: 0.0588 (Epoch 25)\n",
      "Best Test F1: 0.8611 (Epoch 24)\n"
     ]
    },
    {
     "name": "stderr",
     "output_type": "stream",
     "text": [
      "100%|██████████| 65/65 [00:00<00:00, 102.28it/s]\n"
     ]
    },
    {
     "name": "stdout",
     "output_type": "stream",
     "text": [
      "Epoch 26: Train Loss: 0.0575, Test Loss: 0.0591\n",
      "Train F1: 0.8649, Test F1: 0.8676\n",
      "Best Test Loss: 0.0588 (Epoch 25)\n",
      "Best Test F1: 0.8676 (Epoch 26)\n"
     ]
    },
    {
     "name": "stderr",
     "output_type": "stream",
     "text": [
      "100%|██████████| 65/65 [00:00<00:00, 102.28it/s]\n"
     ]
    },
    {
     "name": "stdout",
     "output_type": "stream",
     "text": [
      "Epoch 27: Train Loss: 0.0573, Test Loss: 0.0579\n",
      "Train F1: 0.8676, Test F1: 0.8688\n",
      "Best Test Loss: 0.0579 (Epoch 27)\n",
      "Best Test F1: 0.8688 (Epoch 27)\n"
     ]
    },
    {
     "name": "stderr",
     "output_type": "stream",
     "text": [
      "100%|██████████| 65/65 [00:00<00:00, 102.42it/s]\n"
     ]
    },
    {
     "name": "stdout",
     "output_type": "stream",
     "text": [
      "Epoch 28: Train Loss: 0.0570, Test Loss: 0.0576\n",
      "Train F1: 0.8680, Test F1: 0.8667\n",
      "Best Test Loss: 0.0576 (Epoch 28)\n",
      "Best Test F1: 0.8688 (Epoch 27)\n"
     ]
    },
    {
     "name": "stderr",
     "output_type": "stream",
     "text": [
      "100%|██████████| 65/65 [00:00<00:00, 102.27it/s]\n"
     ]
    },
    {
     "name": "stdout",
     "output_type": "stream",
     "text": [
      "Epoch 29: Train Loss: 0.0566, Test Loss: 0.0575\n",
      "Train F1: 0.8704, Test F1: 0.8680\n",
      "Best Test Loss: 0.0575 (Epoch 29)\n",
      "Best Test F1: 0.8688 (Epoch 27)\n"
     ]
    },
    {
     "name": "stderr",
     "output_type": "stream",
     "text": [
      "100%|██████████| 65/65 [00:00<00:00, 102.12it/s]\n"
     ]
    },
    {
     "name": "stdout",
     "output_type": "stream",
     "text": [
      "Epoch 30: Train Loss: 0.0566, Test Loss: 0.0580\n",
      "Train F1: 0.8701, Test F1: 0.8685\n",
      "Best Test Loss: 0.0575 (Epoch 29)\n",
      "Best Test F1: 0.8688 (Epoch 27)\n"
     ]
    },
    {
     "name": "stderr",
     "output_type": "stream",
     "text": [
      "100%|██████████| 65/65 [00:00<00:00, 102.12it/s]\n"
     ]
    },
    {
     "name": "stdout",
     "output_type": "stream",
     "text": [
      "Epoch 31: Train Loss: 0.0563, Test Loss: 0.0574\n",
      "Train F1: 0.8711, Test F1: 0.8694\n",
      "Best Test Loss: 0.0574 (Epoch 31)\n",
      "Best Test F1: 0.8694 (Epoch 31)\n"
     ]
    },
    {
     "name": "stderr",
     "output_type": "stream",
     "text": [
      "100%|██████████| 65/65 [00:00<00:00, 79.00it/s]\n"
     ]
    },
    {
     "name": "stdout",
     "output_type": "stream",
     "text": [
      "Epoch 32: Train Loss: 0.0561, Test Loss: 0.0588\n",
      "Train F1: 0.8720, Test F1: 0.8701\n",
      "Best Test Loss: 0.0574 (Epoch 31)\n",
      "Best Test F1: 0.8701 (Epoch 32)\n"
     ]
    },
    {
     "name": "stderr",
     "output_type": "stream",
     "text": [
      "100%|██████████| 65/65 [00:00<00:00, 101.62it/s]\n"
     ]
    },
    {
     "name": "stdout",
     "output_type": "stream",
     "text": [
      "Epoch 33: Train Loss: 0.0558, Test Loss: 0.0582\n",
      "Train F1: 0.8709, Test F1: 0.8701\n",
      "Best Test Loss: 0.0574 (Epoch 31)\n",
      "Best Test F1: 0.8701 (Epoch 32)\n"
     ]
    },
    {
     "name": "stderr",
     "output_type": "stream",
     "text": [
      "100%|██████████| 65/65 [00:00<00:00, 101.63it/s]\n"
     ]
    },
    {
     "name": "stdout",
     "output_type": "stream",
     "text": [
      "Epoch 34: Train Loss: 0.0558, Test Loss: 0.0558\n",
      "Train F1: 0.8717, Test F1: 0.8708\n",
      "Best Test Loss: 0.0558 (Epoch 34)\n",
      "Best Test F1: 0.8708 (Epoch 34)\n"
     ]
    },
    {
     "name": "stderr",
     "output_type": "stream",
     "text": [
      "100%|██████████| 65/65 [00:00<00:00, 102.07it/s]\n"
     ]
    },
    {
     "name": "stdout",
     "output_type": "stream",
     "text": [
      "Epoch 35: Train Loss: 0.0556, Test Loss: 0.0567\n",
      "Train F1: 0.8731, Test F1: 0.8705\n",
      "Best Test Loss: 0.0558 (Epoch 34)\n",
      "Best Test F1: 0.8708 (Epoch 34)\n"
     ]
    },
    {
     "name": "stderr",
     "output_type": "stream",
     "text": [
      "100%|██████████| 65/65 [00:00<00:00, 102.02it/s]\n"
     ]
    },
    {
     "name": "stdout",
     "output_type": "stream",
     "text": [
      "Epoch 36: Train Loss: 0.0553, Test Loss: 0.0578\n",
      "Train F1: 0.8734, Test F1: 0.8712\n",
      "Best Test Loss: 0.0558 (Epoch 34)\n",
      "Best Test F1: 0.8712 (Epoch 36)\n"
     ]
    },
    {
     "name": "stderr",
     "output_type": "stream",
     "text": [
      "100%|██████████| 65/65 [00:00<00:00, 102.02it/s]\n"
     ]
    },
    {
     "name": "stdout",
     "output_type": "stream",
     "text": [
      "Epoch 37: Train Loss: 0.0551, Test Loss: 0.0569\n",
      "Train F1: 0.8746, Test F1: 0.8705\n",
      "Best Test Loss: 0.0558 (Epoch 34)\n",
      "Best Test F1: 0.8712 (Epoch 36)\n"
     ]
    },
    {
     "name": "stderr",
     "output_type": "stream",
     "text": [
      "100%|██████████| 65/65 [00:00<00:00, 101.75it/s]\n"
     ]
    },
    {
     "name": "stdout",
     "output_type": "stream",
     "text": [
      "Epoch 38: Train Loss: 0.0550, Test Loss: 0.0576\n",
      "Train F1: 0.8743, Test F1: 0.8724\n",
      "Best Test Loss: 0.0558 (Epoch 34)\n",
      "Best Test F1: 0.8724 (Epoch 38)\n"
     ]
    },
    {
     "name": "stderr",
     "output_type": "stream",
     "text": [
      "100%|██████████| 65/65 [00:00<00:00, 102.25it/s]\n"
     ]
    },
    {
     "name": "stdout",
     "output_type": "stream",
     "text": [
      "Epoch 39: Train Loss: 0.0549, Test Loss: 0.0557\n",
      "Train F1: 0.8741, Test F1: 0.8720\n",
      "Best Test Loss: 0.0557 (Epoch 39)\n",
      "Best Test F1: 0.8724 (Epoch 38)\n"
     ]
    },
    {
     "name": "stderr",
     "output_type": "stream",
     "text": [
      "100%|██████████| 65/65 [00:00<00:00, 102.04it/s]\n"
     ]
    },
    {
     "name": "stdout",
     "output_type": "stream",
     "text": [
      "Epoch 40: Train Loss: 0.0548, Test Loss: 0.0557\n",
      "Train F1: 0.8750, Test F1: 0.8720\n",
      "Best Test Loss: 0.0557 (Epoch 40)\n",
      "Best Test F1: 0.8724 (Epoch 38)\n"
     ]
    },
    {
     "name": "stderr",
     "output_type": "stream",
     "text": [
      "100%|██████████| 65/65 [00:00<00:00, 101.83it/s]\n"
     ]
    },
    {
     "name": "stdout",
     "output_type": "stream",
     "text": [
      "Epoch 41: Train Loss: 0.0546, Test Loss: 0.0562\n",
      "Train F1: 0.8760, Test F1: 0.8731\n",
      "Best Test Loss: 0.0557 (Epoch 40)\n",
      "Best Test F1: 0.8731 (Epoch 41)\n"
     ]
    },
    {
     "name": "stderr",
     "output_type": "stream",
     "text": [
      "100%|██████████| 65/65 [00:00<00:00, 101.63it/s]\n"
     ]
    },
    {
     "name": "stdout",
     "output_type": "stream",
     "text": [
      "Epoch 42: Train Loss: 0.0545, Test Loss: 0.0564\n",
      "Train F1: 0.8748, Test F1: 0.8715\n",
      "Best Test Loss: 0.0557 (Epoch 40)\n",
      "Best Test F1: 0.8731 (Epoch 41)\n"
     ]
    },
    {
     "name": "stderr",
     "output_type": "stream",
     "text": [
      "100%|██████████| 65/65 [00:00<00:00, 101.51it/s]\n"
     ]
    },
    {
     "name": "stdout",
     "output_type": "stream",
     "text": [
      "Epoch 43: Train Loss: 0.0544, Test Loss: 0.0566\n",
      "Train F1: 0.8775, Test F1: 0.8737\n",
      "Best Test Loss: 0.0557 (Epoch 40)\n",
      "Best Test F1: 0.8737 (Epoch 43)\n"
     ]
    },
    {
     "name": "stderr",
     "output_type": "stream",
     "text": [
      "100%|██████████| 65/65 [00:00<00:00, 101.72it/s]\n"
     ]
    },
    {
     "name": "stdout",
     "output_type": "stream",
     "text": [
      "Epoch 44: Train Loss: 0.0544, Test Loss: 0.0562\n",
      "Train F1: 0.8763, Test F1: 0.8741\n",
      "Best Test Loss: 0.0557 (Epoch 40)\n",
      "Best Test F1: 0.8741 (Epoch 44)\n"
     ]
    },
    {
     "name": "stderr",
     "output_type": "stream",
     "text": [
      "100%|██████████| 65/65 [00:00<00:00, 101.76it/s]\n"
     ]
    },
    {
     "name": "stdout",
     "output_type": "stream",
     "text": [
      "Epoch 45: Train Loss: 0.0542, Test Loss: 0.0555\n",
      "Train F1: 0.8774, Test F1: 0.8729\n",
      "Best Test Loss: 0.0555 (Epoch 45)\n",
      "Best Test F1: 0.8741 (Epoch 44)\n"
     ]
    },
    {
     "name": "stderr",
     "output_type": "stream",
     "text": [
      "100%|██████████| 65/65 [00:00<00:00, 102.01it/s]\n"
     ]
    },
    {
     "name": "stdout",
     "output_type": "stream",
     "text": [
      "Epoch 46: Train Loss: 0.0543, Test Loss: 0.0553\n",
      "Train F1: 0.8774, Test F1: 0.8726\n",
      "Best Test Loss: 0.0553 (Epoch 46)\n",
      "Best Test F1: 0.8741 (Epoch 44)\n"
     ]
    },
    {
     "name": "stderr",
     "output_type": "stream",
     "text": [
      "100%|██████████| 65/65 [00:00<00:00, 102.16it/s]\n"
     ]
    },
    {
     "name": "stdout",
     "output_type": "stream",
     "text": [
      "Epoch 47: Train Loss: 0.0540, Test Loss: 0.0549\n",
      "Train F1: 0.8782, Test F1: 0.8739\n",
      "Best Test Loss: 0.0549 (Epoch 47)\n",
      "Best Test F1: 0.8741 (Epoch 44)\n"
     ]
    },
    {
     "name": "stderr",
     "output_type": "stream",
     "text": [
      "100%|██████████| 65/65 [00:00<00:00, 102.02it/s]\n"
     ]
    },
    {
     "name": "stdout",
     "output_type": "stream",
     "text": [
      "Epoch 48: Train Loss: 0.0540, Test Loss: 0.0549\n",
      "Train F1: 0.8790, Test F1: 0.8745\n",
      "Best Test Loss: 0.0549 (Epoch 48)\n",
      "Best Test F1: 0.8745 (Epoch 48)\n"
     ]
    },
    {
     "name": "stderr",
     "output_type": "stream",
     "text": [
      "100%|██████████| 65/65 [00:00<00:00, 102.10it/s]\n"
     ]
    },
    {
     "name": "stdout",
     "output_type": "stream",
     "text": [
      "Epoch 49: Train Loss: 0.0539, Test Loss: 0.0560\n",
      "Train F1: 0.8770, Test F1: 0.8736\n",
      "Best Test Loss: 0.0549 (Epoch 48)\n",
      "Best Test F1: 0.8745 (Epoch 48)\n"
     ]
    },
    {
     "name": "stderr",
     "output_type": "stream",
     "text": [
      "100%|██████████| 65/65 [00:00<00:00, 101.70it/s]\n"
     ]
    },
    {
     "name": "stdout",
     "output_type": "stream",
     "text": [
      "Epoch 50: Train Loss: 0.0539, Test Loss: 0.0549\n",
      "Train F1: 0.8790, Test F1: 0.8735\n",
      "Best Test Loss: 0.0549 (Epoch 48)\n",
      "Best Test F1: 0.8745 (Epoch 48)\n"
     ]
    },
    {
     "name": "stderr",
     "output_type": "stream",
     "text": [
      "100%|██████████| 65/65 [00:00<00:00, 102.27it/s]\n"
     ]
    },
    {
     "name": "stdout",
     "output_type": "stream",
     "text": [
      "Epoch 51: Train Loss: 0.0537, Test Loss: 0.0559\n",
      "Train F1: 0.8785, Test F1: 0.8746\n",
      "Best Test Loss: 0.0549 (Epoch 48)\n",
      "Best Test F1: 0.8746 (Epoch 51)\n"
     ]
    },
    {
     "name": "stderr",
     "output_type": "stream",
     "text": [
      "100%|██████████| 65/65 [00:00<00:00, 102.18it/s]\n"
     ]
    },
    {
     "name": "stdout",
     "output_type": "stream",
     "text": [
      "Epoch 52: Train Loss: 0.0538, Test Loss: 0.0563\n",
      "Train F1: 0.8780, Test F1: 0.8757\n",
      "Best Test Loss: 0.0549 (Epoch 48)\n",
      "Best Test F1: 0.8757 (Epoch 52)\n"
     ]
    },
    {
     "name": "stderr",
     "output_type": "stream",
     "text": [
      "100%|██████████| 65/65 [00:00<00:00, 101.94it/s]\n"
     ]
    },
    {
     "name": "stdout",
     "output_type": "stream",
     "text": [
      "Epoch 53: Train Loss: 0.0536, Test Loss: 0.0562\n",
      "Train F1: 0.8781, Test F1: 0.8764\n",
      "Best Test Loss: 0.0549 (Epoch 48)\n",
      "Best Test F1: 0.8764 (Epoch 53)\n"
     ]
    },
    {
     "name": "stderr",
     "output_type": "stream",
     "text": [
      "100%|██████████| 65/65 [00:00<00:00, 102.05it/s]\n"
     ]
    },
    {
     "name": "stdout",
     "output_type": "stream",
     "text": [
      "Epoch 54: Train Loss: 0.0536, Test Loss: 0.0563\n",
      "Train F1: 0.8791, Test F1: 0.8759\n",
      "Best Test Loss: 0.0549 (Epoch 48)\n",
      "Best Test F1: 0.8764 (Epoch 53)\n"
     ]
    },
    {
     "name": "stderr",
     "output_type": "stream",
     "text": [
      "100%|██████████| 65/65 [00:00<00:00, 101.86it/s]\n"
     ]
    },
    {
     "name": "stdout",
     "output_type": "stream",
     "text": [
      "Epoch 55: Train Loss: 0.0534, Test Loss: 0.0549\n",
      "Train F1: 0.8786, Test F1: 0.8748\n",
      "Best Test Loss: 0.0549 (Epoch 55)\n",
      "Best Test F1: 0.8764 (Epoch 53)\n"
     ]
    },
    {
     "name": "stderr",
     "output_type": "stream",
     "text": [
      "100%|██████████| 65/65 [00:00<00:00, 101.60it/s]\n"
     ]
    },
    {
     "name": "stdout",
     "output_type": "stream",
     "text": [
      "Epoch 56: Train Loss: 0.0535, Test Loss: 0.0547\n",
      "Train F1: 0.8792, Test F1: 0.8763\n",
      "Best Test Loss: 0.0547 (Epoch 56)\n",
      "Best Test F1: 0.8764 (Epoch 53)\n"
     ]
    },
    {
     "name": "stderr",
     "output_type": "stream",
     "text": [
      "100%|██████████| 65/65 [00:00<00:00, 101.79it/s]\n"
     ]
    },
    {
     "name": "stdout",
     "output_type": "stream",
     "text": [
      "Epoch 57: Train Loss: 0.0537, Test Loss: 0.0547\n",
      "Train F1: 0.8792, Test F1: 0.8751\n",
      "Best Test Loss: 0.0547 (Epoch 57)\n",
      "Best Test F1: 0.8764 (Epoch 53)\n"
     ]
    },
    {
     "name": "stderr",
     "output_type": "stream",
     "text": [
      "100%|██████████| 65/65 [00:00<00:00, 101.99it/s]\n"
     ]
    },
    {
     "name": "stdout",
     "output_type": "stream",
     "text": [
      "Epoch 58: Train Loss: 0.0533, Test Loss: 0.0550\n",
      "Train F1: 0.8794, Test F1: 0.8745\n",
      "Best Test Loss: 0.0547 (Epoch 57)\n",
      "Best Test F1: 0.8764 (Epoch 53)\n"
     ]
    },
    {
     "name": "stderr",
     "output_type": "stream",
     "text": [
      "100%|██████████| 65/65 [00:00<00:00, 73.23it/s] \n"
     ]
    },
    {
     "name": "stdout",
     "output_type": "stream",
     "text": [
      "Epoch 59: Train Loss: 0.0533, Test Loss: 0.0554\n",
      "Train F1: 0.8798, Test F1: 0.8771\n",
      "Best Test Loss: 0.0547 (Epoch 57)\n",
      "Best Test F1: 0.8771 (Epoch 59)\n"
     ]
    },
    {
     "name": "stderr",
     "output_type": "stream",
     "text": [
      "100%|██████████| 65/65 [00:00<00:00, 102.09it/s]\n"
     ]
    },
    {
     "name": "stdout",
     "output_type": "stream",
     "text": [
      "Epoch 60: Train Loss: 0.0532, Test Loss: 0.0560\n",
      "Train F1: 0.8788, Test F1: 0.8772\n",
      "Best Test Loss: 0.0547 (Epoch 57)\n",
      "Best Test F1: 0.8772 (Epoch 60)\n"
     ]
    },
    {
     "name": "stderr",
     "output_type": "stream",
     "text": [
      "100%|██████████| 65/65 [00:00<00:00, 101.88it/s]\n"
     ]
    },
    {
     "name": "stdout",
     "output_type": "stream",
     "text": [
      "Epoch 61: Train Loss: 0.0532, Test Loss: 0.0549\n",
      "Train F1: 0.8794, Test F1: 0.8758\n",
      "Best Test Loss: 0.0547 (Epoch 57)\n",
      "Best Test F1: 0.8772 (Epoch 60)\n"
     ]
    },
    {
     "name": "stderr",
     "output_type": "stream",
     "text": [
      "100%|██████████| 65/65 [00:00<00:00, 102.08it/s]\n"
     ]
    },
    {
     "name": "stdout",
     "output_type": "stream",
     "text": [
      "Epoch 62: Train Loss: 0.0532, Test Loss: 0.0557\n",
      "Train F1: 0.8798, Test F1: 0.8777\n",
      "Best Test Loss: 0.0547 (Epoch 57)\n",
      "Best Test F1: 0.8777 (Epoch 62)\n"
     ]
    },
    {
     "name": "stderr",
     "output_type": "stream",
     "text": [
      "100%|██████████| 65/65 [00:00<00:00, 101.92it/s]\n"
     ]
    },
    {
     "name": "stdout",
     "output_type": "stream",
     "text": [
      "Epoch 63: Train Loss: 0.0531, Test Loss: 0.0546\n",
      "Train F1: 0.8792, Test F1: 0.8779\n",
      "Best Test Loss: 0.0546 (Epoch 63)\n",
      "Best Test F1: 0.8779 (Epoch 63)\n"
     ]
    },
    {
     "name": "stderr",
     "output_type": "stream",
     "text": [
      "100%|██████████| 65/65 [00:00<00:00, 102.27it/s]\n"
     ]
    },
    {
     "name": "stdout",
     "output_type": "stream",
     "text": [
      "Epoch 64: Train Loss: 0.0531, Test Loss: 0.0550\n",
      "Train F1: 0.8800, Test F1: 0.8759\n",
      "Best Test Loss: 0.0546 (Epoch 63)\n",
      "Best Test F1: 0.8779 (Epoch 63)\n"
     ]
    },
    {
     "name": "stderr",
     "output_type": "stream",
     "text": [
      "100%|██████████| 65/65 [00:00<00:00, 101.98it/s]\n"
     ]
    },
    {
     "name": "stdout",
     "output_type": "stream",
     "text": [
      "Epoch 65: Train Loss: 0.0530, Test Loss: 0.0548\n",
      "Train F1: 0.8804, Test F1: 0.8776\n",
      "Best Test Loss: 0.0546 (Epoch 63)\n",
      "Best Test F1: 0.8779 (Epoch 63)\n"
     ]
    },
    {
     "name": "stderr",
     "output_type": "stream",
     "text": [
      "100%|██████████| 65/65 [00:00<00:00, 102.07it/s]\n"
     ]
    },
    {
     "name": "stdout",
     "output_type": "stream",
     "text": [
      "Epoch 66: Train Loss: 0.0530, Test Loss: 0.0553\n",
      "Train F1: 0.8806, Test F1: 0.8779\n",
      "Best Test Loss: 0.0546 (Epoch 63)\n",
      "Best Test F1: 0.8779 (Epoch 63)\n"
     ]
    },
    {
     "name": "stderr",
     "output_type": "stream",
     "text": [
      "100%|██████████| 65/65 [00:00<00:00, 102.15it/s]\n"
     ]
    },
    {
     "name": "stdout",
     "output_type": "stream",
     "text": [
      "Epoch 67: Train Loss: 0.0530, Test Loss: 0.0564\n",
      "Train F1: 0.8803, Test F1: 0.8755\n",
      "Best Test Loss: 0.0546 (Epoch 63)\n",
      "Best Test F1: 0.8779 (Epoch 63)\n"
     ]
    },
    {
     "name": "stderr",
     "output_type": "stream",
     "text": [
      "100%|██████████| 65/65 [00:00<00:00, 101.66it/s]\n"
     ]
    },
    {
     "name": "stdout",
     "output_type": "stream",
     "text": [
      "Epoch 68: Train Loss: 0.0530, Test Loss: 0.0548\n",
      "Train F1: 0.8820, Test F1: 0.8756\n",
      "Best Test Loss: 0.0546 (Epoch 63)\n",
      "Best Test F1: 0.8779 (Epoch 63)\n"
     ]
    },
    {
     "name": "stderr",
     "output_type": "stream",
     "text": [
      "100%|██████████| 65/65 [00:00<00:00, 101.72it/s]\n"
     ]
    },
    {
     "name": "stdout",
     "output_type": "stream",
     "text": [
      "Epoch 69: Train Loss: 0.0529, Test Loss: 0.0555\n",
      "Train F1: 0.8798, Test F1: 0.8771\n",
      "Best Test Loss: 0.0546 (Epoch 63)\n",
      "Best Test F1: 0.8779 (Epoch 63)\n"
     ]
    },
    {
     "name": "stderr",
     "output_type": "stream",
     "text": [
      "100%|██████████| 65/65 [00:00<00:00, 101.57it/s]\n"
     ]
    },
    {
     "name": "stdout",
     "output_type": "stream",
     "text": [
      "Epoch 70: Train Loss: 0.0529, Test Loss: 0.0544\n",
      "Train F1: 0.8810, Test F1: 0.8767\n",
      "Best Test Loss: 0.0544 (Epoch 70)\n",
      "Best Test F1: 0.8779 (Epoch 63)\n"
     ]
    },
    {
     "name": "stderr",
     "output_type": "stream",
     "text": [
      "100%|██████████| 65/65 [00:00<00:00, 102.18it/s]\n"
     ]
    },
    {
     "name": "stdout",
     "output_type": "stream",
     "text": [
      "Epoch 71: Train Loss: 0.0529, Test Loss: 0.0553\n",
      "Train F1: 0.8810, Test F1: 0.8779\n",
      "Best Test Loss: 0.0544 (Epoch 70)\n",
      "Best Test F1: 0.8779 (Epoch 63)\n"
     ]
    },
    {
     "name": "stderr",
     "output_type": "stream",
     "text": [
      "100%|██████████| 65/65 [00:00<00:00, 102.19it/s]\n"
     ]
    },
    {
     "name": "stdout",
     "output_type": "stream",
     "text": [
      "Epoch 72: Train Loss: 0.0527, Test Loss: 0.0550\n",
      "Train F1: 0.8801, Test F1: 0.8785\n",
      "Best Test Loss: 0.0544 (Epoch 70)\n",
      "Best Test F1: 0.8785 (Epoch 72)\n"
     ]
    },
    {
     "name": "stderr",
     "output_type": "stream",
     "text": [
      "100%|██████████| 65/65 [00:00<00:00, 102.04it/s]\n"
     ]
    },
    {
     "name": "stdout",
     "output_type": "stream",
     "text": [
      "Epoch 73: Train Loss: 0.0526, Test Loss: 0.0542\n",
      "Train F1: 0.8818, Test F1: 0.8779\n",
      "Best Test Loss: 0.0542 (Epoch 73)\n",
      "Best Test F1: 0.8785 (Epoch 72)\n"
     ]
    },
    {
     "name": "stderr",
     "output_type": "stream",
     "text": [
      "100%|██████████| 65/65 [00:00<00:00, 102.03it/s]\n"
     ]
    },
    {
     "name": "stdout",
     "output_type": "stream",
     "text": [
      "Epoch 74: Train Loss: 0.0526, Test Loss: 0.0546\n",
      "Train F1: 0.8820, Test F1: 0.8785\n",
      "Best Test Loss: 0.0542 (Epoch 73)\n",
      "Best Test F1: 0.8785 (Epoch 72)\n"
     ]
    },
    {
     "name": "stderr",
     "output_type": "stream",
     "text": [
      "100%|██████████| 65/65 [00:00<00:00, 101.86it/s]\n"
     ]
    },
    {
     "name": "stdout",
     "output_type": "stream",
     "text": [
      "Epoch 75: Train Loss: 0.0527, Test Loss: 0.0551\n",
      "Train F1: 0.8810, Test F1: 0.8778\n",
      "Best Test Loss: 0.0542 (Epoch 73)\n",
      "Best Test F1: 0.8785 (Epoch 72)\n"
     ]
    },
    {
     "name": "stderr",
     "output_type": "stream",
     "text": [
      "100%|██████████| 65/65 [00:00<00:00, 101.56it/s]\n"
     ]
    },
    {
     "name": "stdout",
     "output_type": "stream",
     "text": [
      "Epoch 76: Train Loss: 0.0526, Test Loss: 0.0556\n",
      "Train F1: 0.8814, Test F1: 0.8790\n",
      "Best Test Loss: 0.0542 (Epoch 73)\n",
      "Best Test F1: 0.8790 (Epoch 76)\n"
     ]
    },
    {
     "name": "stderr",
     "output_type": "stream",
     "text": [
      "100%|██████████| 65/65 [00:00<00:00, 101.93it/s]\n"
     ]
    },
    {
     "name": "stdout",
     "output_type": "stream",
     "text": [
      "Epoch 77: Train Loss: 0.0525, Test Loss: 0.0545\n",
      "Train F1: 0.8816, Test F1: 0.8783\n",
      "Best Test Loss: 0.0542 (Epoch 73)\n",
      "Best Test F1: 0.8790 (Epoch 76)\n"
     ]
    },
    {
     "name": "stderr",
     "output_type": "stream",
     "text": [
      "100%|██████████| 65/65 [00:00<00:00, 69.08it/s] \n"
     ]
    },
    {
     "name": "stdout",
     "output_type": "stream",
     "text": [
      "Epoch 78: Train Loss: 0.0525, Test Loss: 0.0543\n",
      "Train F1: 0.8807, Test F1: 0.8793\n",
      "Best Test Loss: 0.0542 (Epoch 73)\n",
      "Best Test F1: 0.8793 (Epoch 78)\n"
     ]
    },
    {
     "name": "stderr",
     "output_type": "stream",
     "text": [
      "100%|██████████| 65/65 [00:00<00:00, 101.88it/s]\n"
     ]
    },
    {
     "name": "stdout",
     "output_type": "stream",
     "text": [
      "Epoch 79: Train Loss: 0.0525, Test Loss: 0.0555\n",
      "Train F1: 0.8815, Test F1: 0.8788\n",
      "Best Test Loss: 0.0542 (Epoch 73)\n",
      "Best Test F1: 0.8793 (Epoch 78)\n"
     ]
    },
    {
     "name": "stderr",
     "output_type": "stream",
     "text": [
      "100%|██████████| 65/65 [00:00<00:00, 101.97it/s]\n"
     ]
    },
    {
     "name": "stdout",
     "output_type": "stream",
     "text": [
      "Epoch 80: Train Loss: 0.0526, Test Loss: 0.0544\n",
      "Train F1: 0.8815, Test F1: 0.8794\n",
      "Best Test Loss: 0.0542 (Epoch 73)\n",
      "Best Test F1: 0.8794 (Epoch 80)\n"
     ]
    },
    {
     "name": "stderr",
     "output_type": "stream",
     "text": [
      "100%|██████████| 65/65 [00:00<00:00, 102.03it/s]\n"
     ]
    },
    {
     "name": "stdout",
     "output_type": "stream",
     "text": [
      "Epoch 81: Train Loss: 0.0526, Test Loss: 0.0542\n",
      "Train F1: 0.8814, Test F1: 0.8789\n",
      "Best Test Loss: 0.0542 (Epoch 81)\n",
      "Best Test F1: 0.8794 (Epoch 80)\n"
     ]
    },
    {
     "name": "stderr",
     "output_type": "stream",
     "text": [
      "100%|██████████| 65/65 [00:00<00:00, 101.78it/s]\n"
     ]
    },
    {
     "name": "stdout",
     "output_type": "stream",
     "text": [
      "Epoch 82: Train Loss: 0.0524, Test Loss: 0.0549\n",
      "Train F1: 0.8822, Test F1: 0.8792\n",
      "Best Test Loss: 0.0542 (Epoch 81)\n",
      "Best Test F1: 0.8794 (Epoch 80)\n"
     ]
    },
    {
     "name": "stderr",
     "output_type": "stream",
     "text": [
      "100%|██████████| 65/65 [00:00<00:00, 102.18it/s]\n"
     ]
    },
    {
     "name": "stdout",
     "output_type": "stream",
     "text": [
      "Epoch 83: Train Loss: 0.0524, Test Loss: 0.0542\n",
      "Train F1: 0.8825, Test F1: 0.8786\n",
      "Best Test Loss: 0.0542 (Epoch 81)\n",
      "Best Test F1: 0.8794 (Epoch 80)\n"
     ]
    },
    {
     "name": "stderr",
     "output_type": "stream",
     "text": [
      "100%|██████████| 65/65 [00:00<00:00, 102.11it/s]\n"
     ]
    },
    {
     "name": "stdout",
     "output_type": "stream",
     "text": [
      "Epoch 84: Train Loss: 0.0523, Test Loss: 0.0540\n",
      "Train F1: 0.8821, Test F1: 0.8793\n",
      "Best Test Loss: 0.0540 (Epoch 84)\n",
      "Best Test F1: 0.8794 (Epoch 80)\n"
     ]
    },
    {
     "name": "stderr",
     "output_type": "stream",
     "text": [
      "100%|██████████| 65/65 [00:00<00:00, 101.99it/s]\n"
     ]
    },
    {
     "name": "stdout",
     "output_type": "stream",
     "text": [
      "Epoch 85: Train Loss: 0.0524, Test Loss: 0.0543\n",
      "Train F1: 0.8814, Test F1: 0.8794\n",
      "Best Test Loss: 0.0540 (Epoch 84)\n",
      "Best Test F1: 0.8794 (Epoch 85)\n"
     ]
    },
    {
     "name": "stderr",
     "output_type": "stream",
     "text": [
      "100%|██████████| 65/65 [00:00<00:00, 101.98it/s]\n"
     ]
    },
    {
     "name": "stdout",
     "output_type": "stream",
     "text": [
      "Epoch 86: Train Loss: 0.0522, Test Loss: 0.0540\n",
      "Train F1: 0.8824, Test F1: 0.8811\n",
      "Best Test Loss: 0.0540 (Epoch 86)\n",
      "Best Test F1: 0.8811 (Epoch 86)\n"
     ]
    },
    {
     "name": "stderr",
     "output_type": "stream",
     "text": [
      "100%|██████████| 65/65 [00:00<00:00, 102.05it/s]\n"
     ]
    },
    {
     "name": "stdout",
     "output_type": "stream",
     "text": [
      "Epoch 87: Train Loss: 0.0520, Test Loss: 0.0540\n",
      "Train F1: 0.8829, Test F1: 0.8797\n",
      "Best Test Loss: 0.0540 (Epoch 86)\n",
      "Best Test F1: 0.8811 (Epoch 86)\n"
     ]
    },
    {
     "name": "stderr",
     "output_type": "stream",
     "text": [
      "100%|██████████| 65/65 [00:00<00:00, 102.10it/s]\n"
     ]
    },
    {
     "name": "stdout",
     "output_type": "stream",
     "text": [
      "Epoch 88: Train Loss: 0.0522, Test Loss: 0.0552\n",
      "Train F1: 0.8832, Test F1: 0.8794\n",
      "Best Test Loss: 0.0540 (Epoch 86)\n",
      "Best Test F1: 0.8811 (Epoch 86)\n"
     ]
    },
    {
     "name": "stderr",
     "output_type": "stream",
     "text": [
      "100%|██████████| 65/65 [00:00<00:00, 101.89it/s]\n"
     ]
    },
    {
     "name": "stdout",
     "output_type": "stream",
     "text": [
      "Epoch 89: Train Loss: 0.0522, Test Loss: 0.0546\n",
      "Train F1: 0.8831, Test F1: 0.8810\n",
      "Best Test Loss: 0.0540 (Epoch 86)\n",
      "Best Test F1: 0.8811 (Epoch 86)\n"
     ]
    },
    {
     "name": "stderr",
     "output_type": "stream",
     "text": [
      "100%|██████████| 65/65 [00:00<00:00, 101.90it/s]\n"
     ]
    },
    {
     "name": "stdout",
     "output_type": "stream",
     "text": [
      "Epoch 90: Train Loss: 0.0521, Test Loss: 0.0531\n",
      "Train F1: 0.8835, Test F1: 0.8792\n",
      "Best Test Loss: 0.0531 (Epoch 90)\n",
      "Best Test F1: 0.8811 (Epoch 86)\n"
     ]
    },
    {
     "name": "stderr",
     "output_type": "stream",
     "text": [
      "100%|██████████| 65/65 [00:00<00:00, 101.94it/s]\n"
     ]
    },
    {
     "name": "stdout",
     "output_type": "stream",
     "text": [
      "Epoch 91: Train Loss: 0.0520, Test Loss: 0.0535\n",
      "Train F1: 0.8836, Test F1: 0.8805\n",
      "Best Test Loss: 0.0531 (Epoch 90)\n",
      "Best Test F1: 0.8811 (Epoch 86)\n"
     ]
    },
    {
     "name": "stderr",
     "output_type": "stream",
     "text": [
      "100%|██████████| 65/65 [00:00<00:00, 66.32it/s]\n"
     ]
    },
    {
     "name": "stdout",
     "output_type": "stream",
     "text": [
      "Epoch 92: Train Loss: 0.0521, Test Loss: 0.0539\n",
      "Train F1: 0.8828, Test F1: 0.8803\n",
      "Best Test Loss: 0.0531 (Epoch 90)\n",
      "Best Test F1: 0.8811 (Epoch 86)\n"
     ]
    },
    {
     "name": "stderr",
     "output_type": "stream",
     "text": [
      "100%|██████████| 65/65 [00:00<00:00, 101.93it/s]\n"
     ]
    },
    {
     "name": "stdout",
     "output_type": "stream",
     "text": [
      "Epoch 93: Train Loss: 0.0520, Test Loss: 0.0531\n",
      "Train F1: 0.8830, Test F1: 0.8813\n",
      "Best Test Loss: 0.0531 (Epoch 90)\n",
      "Best Test F1: 0.8813 (Epoch 93)\n"
     ]
    },
    {
     "name": "stderr",
     "output_type": "stream",
     "text": [
      "100%|██████████| 65/65 [00:00<00:00, 101.44it/s]\n"
     ]
    },
    {
     "name": "stdout",
     "output_type": "stream",
     "text": [
      "Epoch 94: Train Loss: 0.0519, Test Loss: 0.0533\n",
      "Train F1: 0.8820, Test F1: 0.8799\n",
      "Best Test Loss: 0.0531 (Epoch 90)\n",
      "Best Test F1: 0.8813 (Epoch 93)\n"
     ]
    },
    {
     "name": "stderr",
     "output_type": "stream",
     "text": [
      "100%|██████████| 65/65 [00:00<00:00, 102.17it/s]\n"
     ]
    },
    {
     "name": "stdout",
     "output_type": "stream",
     "text": [
      "Epoch 95: Train Loss: 0.0519, Test Loss: 0.0537\n",
      "Train F1: 0.8834, Test F1: 0.8796\n",
      "Best Test Loss: 0.0531 (Epoch 90)\n",
      "Best Test F1: 0.8813 (Epoch 93)\n"
     ]
    },
    {
     "name": "stderr",
     "output_type": "stream",
     "text": [
      "100%|██████████| 65/65 [00:00<00:00, 102.23it/s]\n"
     ]
    },
    {
     "name": "stdout",
     "output_type": "stream",
     "text": [
      "Epoch 96: Train Loss: 0.0520, Test Loss: 0.0534\n",
      "Train F1: 0.8838, Test F1: 0.8812\n",
      "Best Test Loss: 0.0531 (Epoch 90)\n",
      "Best Test F1: 0.8813 (Epoch 93)\n"
     ]
    },
    {
     "name": "stderr",
     "output_type": "stream",
     "text": [
      "100%|██████████| 65/65 [00:00<00:00, 102.24it/s]\n"
     ]
    },
    {
     "name": "stdout",
     "output_type": "stream",
     "text": [
      "Epoch 97: Train Loss: 0.0518, Test Loss: 0.0539\n",
      "Train F1: 0.8829, Test F1: 0.8807\n",
      "Best Test Loss: 0.0531 (Epoch 90)\n",
      "Best Test F1: 0.8813 (Epoch 93)\n"
     ]
    },
    {
     "name": "stderr",
     "output_type": "stream",
     "text": [
      "100%|██████████| 65/65 [00:00<00:00, 101.96it/s]\n"
     ]
    },
    {
     "name": "stdout",
     "output_type": "stream",
     "text": [
      "Epoch 98: Train Loss: 0.0519, Test Loss: 0.0551\n",
      "Train F1: 0.8830, Test F1: 0.8818\n",
      "Best Test Loss: 0.0531 (Epoch 90)\n",
      "Best Test F1: 0.8818 (Epoch 98)\n"
     ]
    },
    {
     "name": "stderr",
     "output_type": "stream",
     "text": [
      "100%|██████████| 65/65 [00:00<00:00, 101.92it/s]\n"
     ]
    },
    {
     "name": "stdout",
     "output_type": "stream",
     "text": [
      "Epoch 99: Train Loss: 0.0520, Test Loss: 0.0542\n",
      "Train F1: 0.8831, Test F1: 0.8813\n",
      "Best Test Loss: 0.0531 (Epoch 90)\n",
      "Best Test F1: 0.8818 (Epoch 98)\n"
     ]
    },
    {
     "name": "stderr",
     "output_type": "stream",
     "text": [
      "100%|██████████| 65/65 [00:00<00:00, 102.13it/s]\n"
     ]
    },
    {
     "name": "stdout",
     "output_type": "stream",
     "text": [
      "Epoch 100: Train Loss: 0.0518, Test Loss: 0.0543\n",
      "Train F1: 0.8843, Test F1: 0.8813\n",
      "Best Test Loss: 0.0531 (Epoch 90)\n",
      "Best Test F1: 0.8818 (Epoch 98)\n"
     ]
    },
    {
     "name": "stderr",
     "output_type": "stream",
     "text": [
      "100%|██████████| 65/65 [00:00<00:00, 102.01it/s]\n"
     ]
    },
    {
     "name": "stdout",
     "output_type": "stream",
     "text": [
      "Epoch 101: Train Loss: 0.0518, Test Loss: 0.0526\n",
      "Train F1: 0.8838, Test F1: 0.8798\n",
      "Best Test Loss: 0.0526 (Epoch 101)\n",
      "Best Test F1: 0.8818 (Epoch 98)\n"
     ]
    },
    {
     "name": "stderr",
     "output_type": "stream",
     "text": [
      "100%|██████████| 65/65 [00:00<00:00, 101.94it/s]\n"
     ]
    },
    {
     "name": "stdout",
     "output_type": "stream",
     "text": [
      "Epoch 102: Train Loss: 0.0516, Test Loss: 0.0527\n",
      "Train F1: 0.8836, Test F1: 0.8812\n",
      "Best Test Loss: 0.0526 (Epoch 101)\n",
      "Best Test F1: 0.8818 (Epoch 98)\n"
     ]
    },
    {
     "name": "stderr",
     "output_type": "stream",
     "text": [
      "100%|██████████| 65/65 [00:00<00:00, 102.10it/s]\n"
     ]
    },
    {
     "name": "stdout",
     "output_type": "stream",
     "text": [
      "Epoch 103: Train Loss: 0.0517, Test Loss: 0.0548\n",
      "Train F1: 0.8832, Test F1: 0.8813\n",
      "Best Test Loss: 0.0526 (Epoch 101)\n",
      "Best Test F1: 0.8818 (Epoch 98)\n"
     ]
    },
    {
     "name": "stderr",
     "output_type": "stream",
     "text": [
      "100%|██████████| 65/65 [00:00<00:00, 101.67it/s]\n"
     ]
    },
    {
     "name": "stdout",
     "output_type": "stream",
     "text": [
      "Epoch 104: Train Loss: 0.0516, Test Loss: 0.0550\n",
      "Train F1: 0.8837, Test F1: 0.8807\n",
      "Best Test Loss: 0.0526 (Epoch 101)\n",
      "Best Test F1: 0.8818 (Epoch 98)\n"
     ]
    },
    {
     "name": "stderr",
     "output_type": "stream",
     "text": [
      "100%|██████████| 65/65 [00:00<00:00, 102.00it/s]\n"
     ]
    },
    {
     "name": "stdout",
     "output_type": "stream",
     "text": [
      "Epoch 105: Train Loss: 0.0515, Test Loss: 0.0529\n",
      "Train F1: 0.8844, Test F1: 0.8808\n",
      "Best Test Loss: 0.0526 (Epoch 101)\n",
      "Best Test F1: 0.8818 (Epoch 98)\n"
     ]
    },
    {
     "name": "stderr",
     "output_type": "stream",
     "text": [
      "100%|██████████| 65/65 [00:01<00:00, 64.17it/s] \n"
     ]
    },
    {
     "name": "stdout",
     "output_type": "stream",
     "text": [
      "Epoch 106: Train Loss: 0.0517, Test Loss: 0.0540\n",
      "Train F1: 0.8837, Test F1: 0.8807\n",
      "Best Test Loss: 0.0526 (Epoch 101)\n",
      "Best Test F1: 0.8818 (Epoch 98)\n"
     ]
    },
    {
     "name": "stderr",
     "output_type": "stream",
     "text": [
      "100%|██████████| 65/65 [00:00<00:00, 102.05it/s]\n"
     ]
    },
    {
     "name": "stdout",
     "output_type": "stream",
     "text": [
      "Epoch 107: Train Loss: 0.0517, Test Loss: 0.0530\n",
      "Train F1: 0.8852, Test F1: 0.8812\n",
      "Best Test Loss: 0.0526 (Epoch 101)\n",
      "Best Test F1: 0.8818 (Epoch 98)\n"
     ]
    },
    {
     "name": "stderr",
     "output_type": "stream",
     "text": [
      "100%|██████████| 65/65 [00:00<00:00, 101.83it/s]\n"
     ]
    },
    {
     "name": "stdout",
     "output_type": "stream",
     "text": [
      "Epoch 108: Train Loss: 0.0516, Test Loss: 0.0543\n",
      "Train F1: 0.8830, Test F1: 0.8809\n",
      "Best Test Loss: 0.0526 (Epoch 101)\n",
      "Best Test F1: 0.8818 (Epoch 98)\n"
     ]
    },
    {
     "name": "stderr",
     "output_type": "stream",
     "text": [
      "100%|██████████| 65/65 [00:00<00:00, 102.38it/s]\n"
     ]
    },
    {
     "name": "stdout",
     "output_type": "stream",
     "text": [
      "Epoch 109: Train Loss: 0.0514, Test Loss: 0.0525\n",
      "Train F1: 0.8832, Test F1: 0.8824\n",
      "Best Test Loss: 0.0525 (Epoch 109)\n",
      "Best Test F1: 0.8824 (Epoch 109)\n"
     ]
    },
    {
     "name": "stderr",
     "output_type": "stream",
     "text": [
      "100%|██████████| 65/65 [00:00<00:00, 101.96it/s]\n"
     ]
    },
    {
     "name": "stdout",
     "output_type": "stream",
     "text": [
      "Epoch 110: Train Loss: 0.0513, Test Loss: 0.0532\n",
      "Train F1: 0.8840, Test F1: 0.8812\n",
      "Best Test Loss: 0.0525 (Epoch 109)\n",
      "Best Test F1: 0.8824 (Epoch 109)\n"
     ]
    },
    {
     "name": "stderr",
     "output_type": "stream",
     "text": [
      "100%|██████████| 65/65 [00:00<00:00, 102.17it/s]\n"
     ]
    },
    {
     "name": "stdout",
     "output_type": "stream",
     "text": [
      "Epoch 111: Train Loss: 0.0514, Test Loss: 0.0542\n",
      "Train F1: 0.8835, Test F1: 0.8822\n",
      "Best Test Loss: 0.0525 (Epoch 109)\n",
      "Best Test F1: 0.8824 (Epoch 109)\n"
     ]
    },
    {
     "name": "stderr",
     "output_type": "stream",
     "text": [
      "100%|██████████| 65/65 [00:00<00:00, 102.25it/s]\n"
     ]
    },
    {
     "name": "stdout",
     "output_type": "stream",
     "text": [
      "Epoch 112: Train Loss: 0.0514, Test Loss: 0.0533\n",
      "Train F1: 0.8841, Test F1: 0.8823\n",
      "Best Test Loss: 0.0525 (Epoch 109)\n",
      "Best Test F1: 0.8824 (Epoch 109)\n"
     ]
    },
    {
     "name": "stderr",
     "output_type": "stream",
     "text": [
      "100%|██████████| 65/65 [00:00<00:00, 102.17it/s]\n"
     ]
    },
    {
     "name": "stdout",
     "output_type": "stream",
     "text": [
      "Epoch 113: Train Loss: 0.0513, Test Loss: 0.0555\n",
      "Train F1: 0.8839, Test F1: 0.8817\n",
      "Best Test Loss: 0.0525 (Epoch 109)\n",
      "Best Test F1: 0.8824 (Epoch 109)\n"
     ]
    },
    {
     "name": "stderr",
     "output_type": "stream",
     "text": [
      "100%|██████████| 65/65 [00:00<00:00, 102.23it/s]\n"
     ]
    },
    {
     "name": "stdout",
     "output_type": "stream",
     "text": [
      "Epoch 114: Train Loss: 0.0515, Test Loss: 0.0537\n",
      "Train F1: 0.8845, Test F1: 0.8829\n",
      "Best Test Loss: 0.0525 (Epoch 109)\n",
      "Best Test F1: 0.8829 (Epoch 114)\n"
     ]
    },
    {
     "name": "stderr",
     "output_type": "stream",
     "text": [
      "100%|██████████| 65/65 [00:00<00:00, 102.22it/s]\n"
     ]
    },
    {
     "name": "stdout",
     "output_type": "stream",
     "text": [
      "Epoch 115: Train Loss: 0.0514, Test Loss: 0.0530\n",
      "Train F1: 0.8840, Test F1: 0.8807\n",
      "Best Test Loss: 0.0525 (Epoch 109)\n",
      "Best Test F1: 0.8829 (Epoch 114)\n"
     ]
    },
    {
     "name": "stderr",
     "output_type": "stream",
     "text": [
      "100%|██████████| 65/65 [00:00<00:00, 102.17it/s]\n"
     ]
    },
    {
     "name": "stdout",
     "output_type": "stream",
     "text": [
      "Epoch 116: Train Loss: 0.0513, Test Loss: 0.0544\n",
      "Train F1: 0.8845, Test F1: 0.8829\n",
      "Best Test Loss: 0.0525 (Epoch 109)\n",
      "Best Test F1: 0.8829 (Epoch 116)\n"
     ]
    },
    {
     "name": "stderr",
     "output_type": "stream",
     "text": [
      "100%|██████████| 65/65 [00:00<00:00, 102.01it/s]\n"
     ]
    },
    {
     "name": "stdout",
     "output_type": "stream",
     "text": [
      "Epoch 117: Train Loss: 0.0512, Test Loss: 0.0536\n",
      "Train F1: 0.8842, Test F1: 0.8823\n",
      "Best Test Loss: 0.0525 (Epoch 109)\n",
      "Best Test F1: 0.8829 (Epoch 116)\n"
     ]
    },
    {
     "name": "stderr",
     "output_type": "stream",
     "text": [
      "100%|██████████| 65/65 [00:00<00:00, 101.95it/s]\n"
     ]
    },
    {
     "name": "stdout",
     "output_type": "stream",
     "text": [
      "Epoch 118: Train Loss: 0.0512, Test Loss: 0.0530\n",
      "Train F1: 0.8844, Test F1: 0.8800\n",
      "Best Test Loss: 0.0525 (Epoch 109)\n",
      "Best Test F1: 0.8829 (Epoch 116)\n"
     ]
    },
    {
     "name": "stderr",
     "output_type": "stream",
     "text": [
      "100%|██████████| 65/65 [00:00<00:00, 102.19it/s]\n"
     ]
    },
    {
     "name": "stdout",
     "output_type": "stream",
     "text": [
      "Epoch 119: Train Loss: 0.0512, Test Loss: 0.0541\n",
      "Train F1: 0.8846, Test F1: 0.8825\n",
      "Best Test Loss: 0.0525 (Epoch 109)\n",
      "Best Test F1: 0.8829 (Epoch 116)\n"
     ]
    },
    {
     "name": "stderr",
     "output_type": "stream",
     "text": [
      "100%|██████████| 65/65 [00:00<00:00, 101.95it/s]\n"
     ]
    },
    {
     "name": "stdout",
     "output_type": "stream",
     "text": [
      "Epoch 120: Train Loss: 0.0512, Test Loss: 0.0532\n",
      "Train F1: 0.8849, Test F1: 0.8807\n",
      "Best Test Loss: 0.0525 (Epoch 109)\n",
      "Best Test F1: 0.8829 (Epoch 116)\n"
     ]
    },
    {
     "name": "stderr",
     "output_type": "stream",
     "text": [
      "100%|██████████| 65/65 [00:01<00:00, 62.00it/s] \n"
     ]
    },
    {
     "name": "stdout",
     "output_type": "stream",
     "text": [
      "Epoch 121: Train Loss: 0.0512, Test Loss: 0.0538\n",
      "Train F1: 0.8845, Test F1: 0.8831\n",
      "Best Test Loss: 0.0525 (Epoch 109)\n",
      "Best Test F1: 0.8831 (Epoch 121)\n"
     ]
    },
    {
     "name": "stderr",
     "output_type": "stream",
     "text": [
      "100%|██████████| 65/65 [00:00<00:00, 102.23it/s]\n"
     ]
    },
    {
     "name": "stdout",
     "output_type": "stream",
     "text": [
      "Epoch 122: Train Loss: 0.0513, Test Loss: 0.0531\n",
      "Train F1: 0.8847, Test F1: 0.8830\n",
      "Best Test Loss: 0.0525 (Epoch 109)\n",
      "Best Test F1: 0.8831 (Epoch 121)\n"
     ]
    },
    {
     "name": "stderr",
     "output_type": "stream",
     "text": [
      "100%|██████████| 65/65 [00:00<00:00, 101.96it/s]\n"
     ]
    },
    {
     "name": "stdout",
     "output_type": "stream",
     "text": [
      "Epoch 123: Train Loss: 0.0512, Test Loss: 0.0552\n",
      "Train F1: 0.8843, Test F1: 0.8822\n",
      "Best Test Loss: 0.0525 (Epoch 109)\n",
      "Best Test F1: 0.8831 (Epoch 121)\n"
     ]
    },
    {
     "name": "stderr",
     "output_type": "stream",
     "text": [
      "100%|██████████| 65/65 [00:00<00:00, 101.85it/s]\n"
     ]
    },
    {
     "name": "stdout",
     "output_type": "stream",
     "text": [
      "Epoch 124: Train Loss: 0.0513, Test Loss: 0.0525\n",
      "Train F1: 0.8849, Test F1: 0.8824\n",
      "Best Test Loss: 0.0525 (Epoch 109)\n",
      "Best Test F1: 0.8831 (Epoch 121)\n"
     ]
    },
    {
     "name": "stderr",
     "output_type": "stream",
     "text": [
      "100%|██████████| 65/65 [00:00<00:00, 101.83it/s]\n"
     ]
    },
    {
     "name": "stdout",
     "output_type": "stream",
     "text": [
      "Epoch 125: Train Loss: 0.0511, Test Loss: 0.0534\n",
      "Train F1: 0.8846, Test F1: 0.8827\n",
      "Best Test Loss: 0.0525 (Epoch 109)\n",
      "Best Test F1: 0.8831 (Epoch 121)\n"
     ]
    },
    {
     "name": "stderr",
     "output_type": "stream",
     "text": [
      "100%|██████████| 65/65 [00:00<00:00, 102.19it/s]\n"
     ]
    },
    {
     "name": "stdout",
     "output_type": "stream",
     "text": [
      "Epoch 126: Train Loss: 0.0510, Test Loss: 0.0543\n",
      "Train F1: 0.8851, Test F1: 0.8826\n",
      "Best Test Loss: 0.0525 (Epoch 109)\n",
      "Best Test F1: 0.8831 (Epoch 121)\n"
     ]
    },
    {
     "name": "stderr",
     "output_type": "stream",
     "text": [
      "100%|██████████| 65/65 [00:00<00:00, 101.85it/s]\n"
     ]
    },
    {
     "name": "stdout",
     "output_type": "stream",
     "text": [
      "Epoch 127: Train Loss: 0.0510, Test Loss: 0.0532\n",
      "Train F1: 0.8862, Test F1: 0.8815\n",
      "Best Test Loss: 0.0525 (Epoch 109)\n",
      "Best Test F1: 0.8831 (Epoch 121)\n"
     ]
    },
    {
     "name": "stderr",
     "output_type": "stream",
     "text": [
      "100%|██████████| 65/65 [00:00<00:00, 102.18it/s]\n"
     ]
    },
    {
     "name": "stdout",
     "output_type": "stream",
     "text": [
      "Epoch 128: Train Loss: 0.0510, Test Loss: 0.0522\n",
      "Train F1: 0.8849, Test F1: 0.8814\n",
      "Best Test Loss: 0.0522 (Epoch 128)\n",
      "Best Test F1: 0.8831 (Epoch 121)\n"
     ]
    },
    {
     "name": "stderr",
     "output_type": "stream",
     "text": [
      "100%|██████████| 65/65 [00:00<00:00, 101.47it/s]\n"
     ]
    },
    {
     "name": "stdout",
     "output_type": "stream",
     "text": [
      "Epoch 129: Train Loss: 0.0510, Test Loss: 0.0531\n",
      "Train F1: 0.8850, Test F1: 0.8825\n",
      "Best Test Loss: 0.0522 (Epoch 128)\n",
      "Best Test F1: 0.8831 (Epoch 121)\n"
     ]
    },
    {
     "name": "stderr",
     "output_type": "stream",
     "text": [
      "100%|██████████| 65/65 [00:00<00:00, 102.12it/s]\n"
     ]
    },
    {
     "name": "stdout",
     "output_type": "stream",
     "text": [
      "Epoch 130: Train Loss: 0.0510, Test Loss: 0.0533\n",
      "Train F1: 0.8853, Test F1: 0.8831\n",
      "Best Test Loss: 0.0522 (Epoch 128)\n",
      "Best Test F1: 0.8831 (Epoch 121)\n"
     ]
    },
    {
     "name": "stderr",
     "output_type": "stream",
     "text": [
      "100%|██████████| 65/65 [00:00<00:00, 101.97it/s]\n"
     ]
    },
    {
     "name": "stdout",
     "output_type": "stream",
     "text": [
      "Epoch 131: Train Loss: 0.0509, Test Loss: 0.0530\n",
      "Train F1: 0.8859, Test F1: 0.8814\n",
      "Best Test Loss: 0.0522 (Epoch 128)\n",
      "Best Test F1: 0.8831 (Epoch 121)\n"
     ]
    },
    {
     "name": "stderr",
     "output_type": "stream",
     "text": [
      "100%|██████████| 65/65 [00:00<00:00, 101.51it/s]\n"
     ]
    },
    {
     "name": "stdout",
     "output_type": "stream",
     "text": [
      "Epoch 132: Train Loss: 0.0509, Test Loss: 0.0522\n",
      "Train F1: 0.8863, Test F1: 0.8838\n",
      "Best Test Loss: 0.0522 (Epoch 132)\n",
      "Best Test F1: 0.8838 (Epoch 132)\n"
     ]
    },
    {
     "name": "stderr",
     "output_type": "stream",
     "text": [
      "100%|██████████| 65/65 [00:00<00:00, 101.68it/s]\n"
     ]
    },
    {
     "name": "stdout",
     "output_type": "stream",
     "text": [
      "Epoch 133: Train Loss: 0.0509, Test Loss: 0.0528\n",
      "Train F1: 0.8849, Test F1: 0.8785\n",
      "Best Test Loss: 0.0522 (Epoch 132)\n",
      "Best Test F1: 0.8838 (Epoch 132)\n"
     ]
    },
    {
     "name": "stderr",
     "output_type": "stream",
     "text": [
      "100%|██████████| 65/65 [00:00<00:00, 102.14it/s]\n"
     ]
    },
    {
     "name": "stdout",
     "output_type": "stream",
     "text": [
      "Epoch 134: Train Loss: 0.0509, Test Loss: 0.0533\n",
      "Train F1: 0.8844, Test F1: 0.8820\n",
      "Best Test Loss: 0.0522 (Epoch 132)\n",
      "Best Test F1: 0.8838 (Epoch 132)\n"
     ]
    },
    {
     "name": "stderr",
     "output_type": "stream",
     "text": [
      "100%|██████████| 65/65 [00:00<00:00, 101.92it/s]\n"
     ]
    },
    {
     "name": "stdout",
     "output_type": "stream",
     "text": [
      "Epoch 135: Train Loss: 0.0510, Test Loss: 0.0536\n",
      "Train F1: 0.8841, Test F1: 0.8822\n",
      "Best Test Loss: 0.0522 (Epoch 132)\n",
      "Best Test F1: 0.8838 (Epoch 132)\n"
     ]
    },
    {
     "name": "stderr",
     "output_type": "stream",
     "text": [
      "100%|██████████| 65/65 [00:00<00:00, 101.89it/s]\n"
     ]
    },
    {
     "name": "stdout",
     "output_type": "stream",
     "text": [
      "Epoch 136: Train Loss: 0.0508, Test Loss: 0.0516\n",
      "Train F1: 0.8856, Test F1: 0.8834\n",
      "Best Test Loss: 0.0516 (Epoch 136)\n",
      "Best Test F1: 0.8838 (Epoch 132)\n"
     ]
    },
    {
     "name": "stderr",
     "output_type": "stream",
     "text": [
      "100%|██████████| 65/65 [00:01<00:00, 59.51it/s]\n"
     ]
    },
    {
     "name": "stdout",
     "output_type": "stream",
     "text": [
      "Epoch 137: Train Loss: 0.0508, Test Loss: 0.0527\n",
      "Train F1: 0.8872, Test F1: 0.8817\n",
      "Best Test Loss: 0.0516 (Epoch 136)\n",
      "Best Test F1: 0.8838 (Epoch 132)\n"
     ]
    },
    {
     "name": "stderr",
     "output_type": "stream",
     "text": [
      "100%|██████████| 65/65 [00:00<00:00, 101.78it/s]\n"
     ]
    },
    {
     "name": "stdout",
     "output_type": "stream",
     "text": [
      "Epoch 138: Train Loss: 0.0507, Test Loss: 0.0535\n",
      "Train F1: 0.8859, Test F1: 0.8821\n",
      "Best Test Loss: 0.0516 (Epoch 136)\n",
      "Best Test F1: 0.8838 (Epoch 132)\n"
     ]
    },
    {
     "name": "stderr",
     "output_type": "stream",
     "text": [
      "100%|██████████| 65/65 [00:00<00:00, 101.82it/s]\n"
     ]
    },
    {
     "name": "stdout",
     "output_type": "stream",
     "text": [
      "Epoch 139: Train Loss: 0.0508, Test Loss: 0.0525\n",
      "Train F1: 0.8851, Test F1: 0.8838\n",
      "Best Test Loss: 0.0516 (Epoch 136)\n",
      "Best Test F1: 0.8838 (Epoch 132)\n"
     ]
    },
    {
     "name": "stderr",
     "output_type": "stream",
     "text": [
      "100%|██████████| 65/65 [00:00<00:00, 101.81it/s]\n"
     ]
    },
    {
     "name": "stdout",
     "output_type": "stream",
     "text": [
      "Epoch 140: Train Loss: 0.0507, Test Loss: 0.0524\n",
      "Train F1: 0.8860, Test F1: 0.8815\n",
      "Best Test Loss: 0.0516 (Epoch 136)\n",
      "Best Test F1: 0.8838 (Epoch 132)\n"
     ]
    },
    {
     "name": "stderr",
     "output_type": "stream",
     "text": [
      "100%|██████████| 65/65 [00:00<00:00, 102.02it/s]\n"
     ]
    },
    {
     "name": "stdout",
     "output_type": "stream",
     "text": [
      "Epoch 141: Train Loss: 0.0507, Test Loss: 0.0514\n",
      "Train F1: 0.8850, Test F1: 0.8822\n",
      "Best Test Loss: 0.0514 (Epoch 141)\n",
      "Best Test F1: 0.8838 (Epoch 132)\n"
     ]
    },
    {
     "name": "stderr",
     "output_type": "stream",
     "text": [
      "100%|██████████| 65/65 [00:00<00:00, 101.69it/s]\n"
     ]
    },
    {
     "name": "stdout",
     "output_type": "stream",
     "text": [
      "Epoch 142: Train Loss: 0.0506, Test Loss: 0.0533\n",
      "Train F1: 0.8853, Test F1: 0.8829\n",
      "Best Test Loss: 0.0514 (Epoch 141)\n",
      "Best Test F1: 0.8838 (Epoch 132)\n"
     ]
    },
    {
     "name": "stderr",
     "output_type": "stream",
     "text": [
      "100%|██████████| 65/65 [00:00<00:00, 101.90it/s]\n"
     ]
    },
    {
     "name": "stdout",
     "output_type": "stream",
     "text": [
      "Epoch 143: Train Loss: 0.0508, Test Loss: 0.0531\n",
      "Train F1: 0.8853, Test F1: 0.8831\n",
      "Best Test Loss: 0.0514 (Epoch 141)\n",
      "Best Test F1: 0.8838 (Epoch 132)\n"
     ]
    },
    {
     "name": "stderr",
     "output_type": "stream",
     "text": [
      "100%|██████████| 65/65 [00:00<00:00, 101.96it/s]\n"
     ]
    },
    {
     "name": "stdout",
     "output_type": "stream",
     "text": [
      "Epoch 144: Train Loss: 0.0508, Test Loss: 0.0532\n",
      "Train F1: 0.8859, Test F1: 0.8823\n",
      "Best Test Loss: 0.0514 (Epoch 141)\n",
      "Best Test F1: 0.8838 (Epoch 132)\n"
     ]
    },
    {
     "name": "stderr",
     "output_type": "stream",
     "text": [
      "100%|██████████| 65/65 [00:00<00:00, 101.94it/s]\n"
     ]
    },
    {
     "name": "stdout",
     "output_type": "stream",
     "text": [
      "Epoch 145: Train Loss: 0.0506, Test Loss: 0.0526\n",
      "Train F1: 0.8858, Test F1: 0.8831\n",
      "Best Test Loss: 0.0514 (Epoch 141)\n",
      "Best Test F1: 0.8838 (Epoch 132)\n"
     ]
    },
    {
     "name": "stderr",
     "output_type": "stream",
     "text": [
      "100%|██████████| 65/65 [00:00<00:00, 101.98it/s]\n"
     ]
    },
    {
     "name": "stdout",
     "output_type": "stream",
     "text": [
      "Epoch 146: Train Loss: 0.0506, Test Loss: 0.0518\n",
      "Train F1: 0.8860, Test F1: 0.8815\n",
      "Best Test Loss: 0.0514 (Epoch 141)\n",
      "Best Test F1: 0.8838 (Epoch 132)\n"
     ]
    },
    {
     "name": "stderr",
     "output_type": "stream",
     "text": [
      "100%|██████████| 65/65 [00:00<00:00, 102.02it/s]\n"
     ]
    },
    {
     "name": "stdout",
     "output_type": "stream",
     "text": [
      "Epoch 147: Train Loss: 0.0505, Test Loss: 0.0533\n",
      "Train F1: 0.8861, Test F1: 0.8831\n",
      "Best Test Loss: 0.0514 (Epoch 141)\n",
      "Best Test F1: 0.8838 (Epoch 132)\n"
     ]
    },
    {
     "name": "stderr",
     "output_type": "stream",
     "text": [
      "100%|██████████| 65/65 [00:00<00:00, 101.97it/s]\n"
     ]
    },
    {
     "name": "stdout",
     "output_type": "stream",
     "text": [
      "Epoch 148: Train Loss: 0.0505, Test Loss: 0.0524\n",
      "Train F1: 0.8850, Test F1: 0.8813\n",
      "Best Test Loss: 0.0514 (Epoch 141)\n",
      "Best Test F1: 0.8838 (Epoch 132)\n"
     ]
    },
    {
     "name": "stderr",
     "output_type": "stream",
     "text": [
      "100%|██████████| 65/65 [00:00<00:00, 101.76it/s]\n"
     ]
    },
    {
     "name": "stdout",
     "output_type": "stream",
     "text": [
      "Epoch 149: Train Loss: 0.0505, Test Loss: 0.0526\n",
      "Train F1: 0.8866, Test F1: 0.8814\n",
      "Best Test Loss: 0.0514 (Epoch 141)\n",
      "Best Test F1: 0.8838 (Epoch 132)\n"
     ]
    },
    {
     "name": "stderr",
     "output_type": "stream",
     "text": [
      "100%|██████████| 65/65 [00:00<00:00, 101.89it/s]\n"
     ]
    },
    {
     "name": "stdout",
     "output_type": "stream",
     "text": [
      "Epoch 150: Train Loss: 0.0505, Test Loss: 0.0522\n",
      "Train F1: 0.8863, Test F1: 0.8820\n",
      "Best Test Loss: 0.0514 (Epoch 141)\n",
      "Best Test F1: 0.8838 (Epoch 132)\n"
     ]
    },
    {
     "name": "stderr",
     "output_type": "stream",
     "text": [
      "100%|██████████| 65/65 [00:00<00:00, 101.64it/s]\n"
     ]
    },
    {
     "name": "stdout",
     "output_type": "stream",
     "text": [
      "Epoch 151: Train Loss: 0.0505, Test Loss: 0.0531\n",
      "Train F1: 0.8864, Test F1: 0.8833\n",
      "Best Test Loss: 0.0514 (Epoch 141)\n",
      "Best Test F1: 0.8838 (Epoch 132)\n"
     ]
    },
    {
     "name": "stderr",
     "output_type": "stream",
     "text": [
      "100%|██████████| 65/65 [00:00<00:00, 102.02it/s]\n"
     ]
    },
    {
     "name": "stdout",
     "output_type": "stream",
     "text": [
      "Epoch 152: Train Loss: 0.0504, Test Loss: 0.0522\n",
      "Train F1: 0.8870, Test F1: 0.8832\n",
      "Best Test Loss: 0.0514 (Epoch 141)\n",
      "Best Test F1: 0.8838 (Epoch 132)\n"
     ]
    },
    {
     "name": "stderr",
     "output_type": "stream",
     "text": [
      "100%|██████████| 65/65 [00:00<00:00, 101.83it/s]\n"
     ]
    },
    {
     "name": "stdout",
     "output_type": "stream",
     "text": [
      "Epoch 153: Train Loss: 0.0505, Test Loss: 0.0517\n",
      "Train F1: 0.8860, Test F1: 0.8837\n",
      "Best Test Loss: 0.0514 (Epoch 141)\n",
      "Best Test F1: 0.8838 (Epoch 132)\n"
     ]
    },
    {
     "name": "stderr",
     "output_type": "stream",
     "text": [
      "100%|██████████| 65/65 [00:00<00:00, 101.86it/s]\n"
     ]
    },
    {
     "name": "stdout",
     "output_type": "stream",
     "text": [
      "Epoch 154: Train Loss: 0.0504, Test Loss: 0.0527\n",
      "Train F1: 0.8871, Test F1: 0.8833\n",
      "Best Test Loss: 0.0514 (Epoch 141)\n",
      "Best Test F1: 0.8838 (Epoch 132)\n"
     ]
    },
    {
     "name": "stderr",
     "output_type": "stream",
     "text": [
      "100%|██████████| 65/65 [00:00<00:00, 101.55it/s]\n"
     ]
    },
    {
     "name": "stdout",
     "output_type": "stream",
     "text": [
      "Epoch 155: Train Loss: 0.0506, Test Loss: 0.0535\n",
      "Train F1: 0.8860, Test F1: 0.8832\n",
      "Best Test Loss: 0.0514 (Epoch 141)\n",
      "Best Test F1: 0.8838 (Epoch 132)\n"
     ]
    },
    {
     "name": "stderr",
     "output_type": "stream",
     "text": [
      "100%|██████████| 65/65 [00:00<00:00, 102.08it/s]\n"
     ]
    },
    {
     "name": "stdout",
     "output_type": "stream",
     "text": [
      "Epoch 156: Train Loss: 0.0503, Test Loss: 0.0518\n",
      "Train F1: 0.8859, Test F1: 0.8824\n",
      "Best Test Loss: 0.0514 (Epoch 141)\n",
      "Best Test F1: 0.8838 (Epoch 132)\n"
     ]
    },
    {
     "name": "stderr",
     "output_type": "stream",
     "text": [
      "100%|██████████| 65/65 [00:00<00:00, 101.86it/s]\n"
     ]
    },
    {
     "name": "stdout",
     "output_type": "stream",
     "text": [
      "Epoch 157: Train Loss: 0.0506, Test Loss: 0.0531\n",
      "Train F1: 0.8866, Test F1: 0.8822\n",
      "Best Test Loss: 0.0514 (Epoch 141)\n",
      "Best Test F1: 0.8838 (Epoch 132)\n"
     ]
    },
    {
     "name": "stderr",
     "output_type": "stream",
     "text": [
      "100%|██████████| 65/65 [00:00<00:00, 101.92it/s]\n"
     ]
    },
    {
     "name": "stdout",
     "output_type": "stream",
     "text": [
      "Epoch 158: Train Loss: 0.0504, Test Loss: 0.0518\n",
      "Train F1: 0.8867, Test F1: 0.8820\n",
      "Best Test Loss: 0.0514 (Epoch 141)\n",
      "Best Test F1: 0.8838 (Epoch 132)\n"
     ]
    },
    {
     "name": "stderr",
     "output_type": "stream",
     "text": [
      "100%|██████████| 65/65 [00:00<00:00, 101.83it/s]\n"
     ]
    },
    {
     "name": "stdout",
     "output_type": "stream",
     "text": [
      "Epoch 159: Train Loss: 0.0503, Test Loss: 0.0515\n",
      "Train F1: 0.8870, Test F1: 0.8834\n",
      "Best Test Loss: 0.0514 (Epoch 141)\n",
      "Best Test F1: 0.8838 (Epoch 132)\n"
     ]
    },
    {
     "name": "stderr",
     "output_type": "stream",
     "text": [
      "100%|██████████| 65/65 [00:00<00:00, 101.91it/s]\n"
     ]
    },
    {
     "name": "stdout",
     "output_type": "stream",
     "text": [
      "Epoch 160: Train Loss: 0.0503, Test Loss: 0.0526\n",
      "Train F1: 0.8875, Test F1: 0.8851\n",
      "Best Test Loss: 0.0514 (Epoch 141)\n",
      "Best Test F1: 0.8851 (Epoch 160)\n"
     ]
    },
    {
     "name": "stderr",
     "output_type": "stream",
     "text": [
      "100%|██████████| 65/65 [00:00<00:00, 101.74it/s]\n"
     ]
    },
    {
     "name": "stdout",
     "output_type": "stream",
     "text": [
      "Epoch 161: Train Loss: 0.0503, Test Loss: 0.0525\n",
      "Train F1: 0.8871, Test F1: 0.8821\n",
      "Best Test Loss: 0.0514 (Epoch 141)\n",
      "Best Test F1: 0.8851 (Epoch 160)\n"
     ]
    },
    {
     "name": "stderr",
     "output_type": "stream",
     "text": [
      "100%|██████████| 65/65 [00:00<00:00, 102.03it/s]\n"
     ]
    },
    {
     "name": "stdout",
     "output_type": "stream",
     "text": [
      "Epoch 162: Train Loss: 0.0504, Test Loss: 0.0538\n",
      "Train F1: 0.8861, Test F1: 0.8833\n",
      "Best Test Loss: 0.0514 (Epoch 141)\n",
      "Best Test F1: 0.8851 (Epoch 160)\n"
     ]
    },
    {
     "name": "stderr",
     "output_type": "stream",
     "text": [
      "100%|██████████| 65/65 [00:00<00:00, 101.91it/s]\n"
     ]
    },
    {
     "name": "stdout",
     "output_type": "stream",
     "text": [
      "Epoch 163: Train Loss: 0.0502, Test Loss: 0.0527\n",
      "Train F1: 0.8876, Test F1: 0.8848\n",
      "Best Test Loss: 0.0514 (Epoch 141)\n",
      "Best Test F1: 0.8851 (Epoch 160)\n"
     ]
    },
    {
     "name": "stderr",
     "output_type": "stream",
     "text": [
      "100%|██████████| 65/65 [00:00<00:00, 101.94it/s]\n"
     ]
    },
    {
     "name": "stdout",
     "output_type": "stream",
     "text": [
      "Epoch 164: Train Loss: 0.0503, Test Loss: 0.0523\n",
      "Train F1: 0.8866, Test F1: 0.8836\n",
      "Best Test Loss: 0.0514 (Epoch 141)\n",
      "Best Test F1: 0.8851 (Epoch 160)\n"
     ]
    },
    {
     "name": "stderr",
     "output_type": "stream",
     "text": [
      "100%|██████████| 65/65 [00:00<00:00, 101.94it/s]\n"
     ]
    },
    {
     "name": "stdout",
     "output_type": "stream",
     "text": [
      "Epoch 165: Train Loss: 0.0502, Test Loss: 0.0536\n",
      "Train F1: 0.8865, Test F1: 0.8846\n",
      "Best Test Loss: 0.0514 (Epoch 141)\n",
      "Best Test F1: 0.8851 (Epoch 160)\n"
     ]
    },
    {
     "name": "stderr",
     "output_type": "stream",
     "text": [
      "100%|██████████| 65/65 [00:00<00:00, 101.74it/s]\n"
     ]
    },
    {
     "name": "stdout",
     "output_type": "stream",
     "text": [
      "Epoch 166: Train Loss: 0.0501, Test Loss: 0.0511\n",
      "Train F1: 0.8868, Test F1: 0.8830\n",
      "Best Test Loss: 0.0511 (Epoch 166)\n",
      "Best Test F1: 0.8851 (Epoch 160)\n"
     ]
    },
    {
     "name": "stderr",
     "output_type": "stream",
     "text": [
      "100%|██████████| 65/65 [00:00<00:00, 101.78it/s]\n"
     ]
    },
    {
     "name": "stdout",
     "output_type": "stream",
     "text": [
      "Epoch 167: Train Loss: 0.0501, Test Loss: 0.0523\n",
      "Train F1: 0.8873, Test F1: 0.8835\n",
      "Best Test Loss: 0.0511 (Epoch 166)\n",
      "Best Test F1: 0.8851 (Epoch 160)\n"
     ]
    },
    {
     "name": "stderr",
     "output_type": "stream",
     "text": [
      "100%|██████████| 65/65 [00:00<00:00, 101.90it/s]\n"
     ]
    },
    {
     "name": "stdout",
     "output_type": "stream",
     "text": [
      "Epoch 168: Train Loss: 0.0503, Test Loss: 0.0526\n",
      "Train F1: 0.8865, Test F1: 0.8833\n",
      "Best Test Loss: 0.0511 (Epoch 166)\n",
      "Best Test F1: 0.8851 (Epoch 160)\n"
     ]
    },
    {
     "name": "stderr",
     "output_type": "stream",
     "text": [
      "100%|██████████| 65/65 [00:00<00:00, 101.98it/s]\n"
     ]
    },
    {
     "name": "stdout",
     "output_type": "stream",
     "text": [
      "Epoch 169: Train Loss: 0.0501, Test Loss: 0.0518\n",
      "Train F1: 0.8865, Test F1: 0.8836\n",
      "Best Test Loss: 0.0511 (Epoch 166)\n",
      "Best Test F1: 0.8851 (Epoch 160)\n"
     ]
    },
    {
     "name": "stderr",
     "output_type": "stream",
     "text": [
      "100%|██████████| 65/65 [00:00<00:00, 101.71it/s]\n"
     ]
    },
    {
     "name": "stdout",
     "output_type": "stream",
     "text": [
      "Epoch 170: Train Loss: 0.0501, Test Loss: 0.0518\n",
      "Train F1: 0.8882, Test F1: 0.8816\n",
      "Best Test Loss: 0.0511 (Epoch 166)\n",
      "Best Test F1: 0.8851 (Epoch 160)\n"
     ]
    },
    {
     "name": "stderr",
     "output_type": "stream",
     "text": [
      "100%|██████████| 65/65 [00:00<00:00, 101.62it/s]\n"
     ]
    },
    {
     "name": "stdout",
     "output_type": "stream",
     "text": [
      "Epoch 171: Train Loss: 0.0501, Test Loss: 0.0527\n",
      "Train F1: 0.8875, Test F1: 0.8833\n",
      "Best Test Loss: 0.0511 (Epoch 166)\n",
      "Best Test F1: 0.8851 (Epoch 160)\n"
     ]
    },
    {
     "name": "stderr",
     "output_type": "stream",
     "text": [
      "100%|██████████| 65/65 [00:00<00:00, 101.66it/s]\n"
     ]
    },
    {
     "name": "stdout",
     "output_type": "stream",
     "text": [
      "Epoch 172: Train Loss: 0.0500, Test Loss: 0.0533\n",
      "Train F1: 0.8875, Test F1: 0.8824\n",
      "Best Test Loss: 0.0511 (Epoch 166)\n",
      "Best Test F1: 0.8851 (Epoch 160)\n"
     ]
    },
    {
     "name": "stderr",
     "output_type": "stream",
     "text": [
      "100%|██████████| 65/65 [00:00<00:00, 101.52it/s]\n"
     ]
    },
    {
     "name": "stdout",
     "output_type": "stream",
     "text": [
      "Epoch 173: Train Loss: 0.0499, Test Loss: 0.0528\n",
      "Train F1: 0.8865, Test F1: 0.8830\n",
      "Best Test Loss: 0.0511 (Epoch 166)\n",
      "Best Test F1: 0.8851 (Epoch 160)\n"
     ]
    },
    {
     "name": "stderr",
     "output_type": "stream",
     "text": [
      "100%|██████████| 65/65 [00:01<00:00, 54.99it/s]\n"
     ]
    },
    {
     "name": "stdout",
     "output_type": "stream",
     "text": [
      "Epoch 174: Train Loss: 0.0499, Test Loss: 0.0520\n",
      "Train F1: 0.8872, Test F1: 0.8825\n",
      "Best Test Loss: 0.0511 (Epoch 166)\n",
      "Best Test F1: 0.8851 (Epoch 160)\n"
     ]
    },
    {
     "name": "stderr",
     "output_type": "stream",
     "text": [
      "100%|██████████| 65/65 [00:00<00:00, 101.66it/s]\n"
     ]
    },
    {
     "name": "stdout",
     "output_type": "stream",
     "text": [
      "Epoch 175: Train Loss: 0.0499, Test Loss: 0.0523\n",
      "Train F1: 0.8869, Test F1: 0.8826\n",
      "Best Test Loss: 0.0511 (Epoch 166)\n",
      "Best Test F1: 0.8851 (Epoch 160)\n"
     ]
    },
    {
     "name": "stderr",
     "output_type": "stream",
     "text": [
      "100%|██████████| 65/65 [00:00<00:00, 101.78it/s]\n"
     ]
    },
    {
     "name": "stdout",
     "output_type": "stream",
     "text": [
      "Epoch 176: Train Loss: 0.0499, Test Loss: 0.0531\n",
      "Train F1: 0.8866, Test F1: 0.8838\n",
      "Best Test Loss: 0.0511 (Epoch 166)\n",
      "Best Test F1: 0.8851 (Epoch 160)\n"
     ]
    },
    {
     "name": "stderr",
     "output_type": "stream",
     "text": [
      "100%|██████████| 65/65 [00:00<00:00, 101.73it/s]\n"
     ]
    },
    {
     "name": "stdout",
     "output_type": "stream",
     "text": [
      "Epoch 177: Train Loss: 0.0500, Test Loss: 0.0526\n",
      "Train F1: 0.8864, Test F1: 0.8849\n",
      "Best Test Loss: 0.0511 (Epoch 166)\n",
      "Best Test F1: 0.8851 (Epoch 160)\n"
     ]
    },
    {
     "name": "stderr",
     "output_type": "stream",
     "text": [
      "100%|██████████| 65/65 [00:00<00:00, 101.60it/s]\n"
     ]
    },
    {
     "name": "stdout",
     "output_type": "stream",
     "text": [
      "Epoch 178: Train Loss: 0.0499, Test Loss: 0.0524\n",
      "Train F1: 0.8880, Test F1: 0.8827\n",
      "Best Test Loss: 0.0511 (Epoch 166)\n",
      "Best Test F1: 0.8851 (Epoch 160)\n"
     ]
    },
    {
     "name": "stderr",
     "output_type": "stream",
     "text": [
      "100%|██████████| 65/65 [00:00<00:00, 101.73it/s]\n"
     ]
    },
    {
     "name": "stdout",
     "output_type": "stream",
     "text": [
      "Epoch 179: Train Loss: 0.0499, Test Loss: 0.0511\n",
      "Train F1: 0.8878, Test F1: 0.8835\n",
      "Best Test Loss: 0.0511 (Epoch 179)\n",
      "Best Test F1: 0.8851 (Epoch 160)\n"
     ]
    },
    {
     "name": "stderr",
     "output_type": "stream",
     "text": [
      "100%|██████████| 65/65 [00:00<00:00, 101.78it/s]\n"
     ]
    },
    {
     "name": "stdout",
     "output_type": "stream",
     "text": [
      "Epoch 180: Train Loss: 0.0499, Test Loss: 0.0523\n",
      "Train F1: 0.8878, Test F1: 0.8828\n",
      "Best Test Loss: 0.0511 (Epoch 179)\n",
      "Best Test F1: 0.8851 (Epoch 160)\n"
     ]
    },
    {
     "name": "stderr",
     "output_type": "stream",
     "text": [
      "100%|██████████| 65/65 [00:00<00:00, 101.88it/s]\n"
     ]
    },
    {
     "name": "stdout",
     "output_type": "stream",
     "text": [
      "Epoch 181: Train Loss: 0.0499, Test Loss: 0.0518\n",
      "Train F1: 0.8878, Test F1: 0.8834\n",
      "Best Test Loss: 0.0511 (Epoch 179)\n",
      "Best Test F1: 0.8851 (Epoch 160)\n"
     ]
    },
    {
     "name": "stderr",
     "output_type": "stream",
     "text": [
      "100%|██████████| 65/65 [00:00<00:00, 102.04it/s]\n"
     ]
    },
    {
     "name": "stdout",
     "output_type": "stream",
     "text": [
      "Epoch 182: Train Loss: 0.0498, Test Loss: 0.0518\n",
      "Train F1: 0.8876, Test F1: 0.8838\n",
      "Best Test Loss: 0.0511 (Epoch 179)\n",
      "Best Test F1: 0.8851 (Epoch 160)\n"
     ]
    },
    {
     "name": "stderr",
     "output_type": "stream",
     "text": [
      "100%|██████████| 65/65 [00:00<00:00, 101.81it/s]\n"
     ]
    },
    {
     "name": "stdout",
     "output_type": "stream",
     "text": [
      "Epoch 183: Train Loss: 0.0498, Test Loss: 0.0524\n",
      "Train F1: 0.8880, Test F1: 0.8812\n",
      "Best Test Loss: 0.0511 (Epoch 179)\n",
      "Best Test F1: 0.8851 (Epoch 160)\n"
     ]
    },
    {
     "name": "stderr",
     "output_type": "stream",
     "text": [
      "100%|██████████| 65/65 [00:00<00:00, 101.48it/s]\n"
     ]
    },
    {
     "name": "stdout",
     "output_type": "stream",
     "text": [
      "Epoch 184: Train Loss: 0.0497, Test Loss: 0.0515\n",
      "Train F1: 0.8888, Test F1: 0.8841\n",
      "Best Test Loss: 0.0511 (Epoch 179)\n",
      "Best Test F1: 0.8851 (Epoch 160)\n"
     ]
    },
    {
     "name": "stderr",
     "output_type": "stream",
     "text": [
      "100%|██████████| 65/65 [00:00<00:00, 101.57it/s]\n"
     ]
    },
    {
     "name": "stdout",
     "output_type": "stream",
     "text": [
      "Epoch 185: Train Loss: 0.0497, Test Loss: 0.0525\n",
      "Train F1: 0.8874, Test F1: 0.8835\n",
      "Best Test Loss: 0.0511 (Epoch 179)\n",
      "Best Test F1: 0.8851 (Epoch 160)\n"
     ]
    },
    {
     "name": "stderr",
     "output_type": "stream",
     "text": [
      "100%|██████████| 65/65 [00:00<00:00, 101.95it/s]\n"
     ]
    },
    {
     "name": "stdout",
     "output_type": "stream",
     "text": [
      "Epoch 186: Train Loss: 0.0499, Test Loss: 0.0518\n",
      "Train F1: 0.8880, Test F1: 0.8820\n",
      "Best Test Loss: 0.0511 (Epoch 179)\n",
      "Best Test F1: 0.8851 (Epoch 160)\n"
     ]
    },
    {
     "name": "stderr",
     "output_type": "stream",
     "text": [
      "100%|██████████| 65/65 [00:00<00:00, 101.87it/s]\n"
     ]
    },
    {
     "name": "stdout",
     "output_type": "stream",
     "text": [
      "Epoch 187: Train Loss: 0.0497, Test Loss: 0.0533\n",
      "Train F1: 0.8876, Test F1: 0.8829\n",
      "Best Test Loss: 0.0511 (Epoch 179)\n",
      "Best Test F1: 0.8851 (Epoch 160)\n"
     ]
    },
    {
     "name": "stderr",
     "output_type": "stream",
     "text": [
      "100%|██████████| 65/65 [00:00<00:00, 101.48it/s]\n"
     ]
    },
    {
     "name": "stdout",
     "output_type": "stream",
     "text": [
      "Epoch 188: Train Loss: 0.0496, Test Loss: 0.0520\n",
      "Train F1: 0.8877, Test F1: 0.8825\n",
      "Best Test Loss: 0.0511 (Epoch 179)\n",
      "Best Test F1: 0.8851 (Epoch 160)\n"
     ]
    },
    {
     "name": "stderr",
     "output_type": "stream",
     "text": [
      "100%|██████████| 65/65 [00:00<00:00, 101.65it/s]\n"
     ]
    },
    {
     "name": "stdout",
     "output_type": "stream",
     "text": [
      "Epoch 189: Train Loss: 0.0496, Test Loss: 0.0519\n",
      "Train F1: 0.8882, Test F1: 0.8844\n",
      "Best Test Loss: 0.0511 (Epoch 179)\n",
      "Best Test F1: 0.8851 (Epoch 160)\n"
     ]
    },
    {
     "name": "stderr",
     "output_type": "stream",
     "text": [
      "100%|██████████| 65/65 [00:00<00:00, 101.97it/s]\n"
     ]
    },
    {
     "name": "stdout",
     "output_type": "stream",
     "text": [
      "Epoch 190: Train Loss: 0.0496, Test Loss: 0.0522\n",
      "Train F1: 0.8871, Test F1: 0.8840\n",
      "Best Test Loss: 0.0511 (Epoch 179)\n",
      "Best Test F1: 0.8851 (Epoch 160)\n"
     ]
    },
    {
     "name": "stderr",
     "output_type": "stream",
     "text": [
      "100%|██████████| 65/65 [00:00<00:00, 101.84it/s]\n"
     ]
    },
    {
     "name": "stdout",
     "output_type": "stream",
     "text": [
      "Epoch 191: Train Loss: 0.0496, Test Loss: 0.0514\n",
      "Train F1: 0.8882, Test F1: 0.8828\n",
      "Best Test Loss: 0.0511 (Epoch 179)\n",
      "Best Test F1: 0.8851 (Epoch 160)\n"
     ]
    },
    {
     "name": "stderr",
     "output_type": "stream",
     "text": [
      " 49%|████▉     | 32/65 [00:00<00:00, 101.34it/s]Exception ignored in: <bound method IPythonKernel._clean_thread_parent_frames of <ipykernel.ipkernel.IPythonKernel object at 0x7cf715899b10>>\n",
      "Traceback (most recent call last):\n",
      "  File \"/home/andrew/.local/lib/python3.10/site-packages/ipykernel/ipkernel.py\", line 775, in _clean_thread_parent_frames\n",
      "    def _clean_thread_parent_frames(\n",
      "KeyboardInterrupt: \n",
      "100%|██████████| 65/65 [00:01<00:00, 52.34it/s] \n"
     ]
    },
    {
     "name": "stdout",
     "output_type": "stream",
     "text": [
      "Epoch 192: Train Loss: 0.0496, Test Loss: 0.0529\n",
      "Train F1: 0.8881, Test F1: 0.8837\n",
      "Best Test Loss: 0.0511 (Epoch 179)\n",
      "Best Test F1: 0.8851 (Epoch 160)\n"
     ]
    },
    {
     "name": "stderr",
     "output_type": "stream",
     "text": [
      "100%|██████████| 65/65 [00:00<00:00, 101.10it/s]\n"
     ]
    },
    {
     "name": "stdout",
     "output_type": "stream",
     "text": [
      "Epoch 193: Train Loss: 0.0496, Test Loss: 0.0514\n",
      "Train F1: 0.8883, Test F1: 0.8841\n",
      "Best Test Loss: 0.0511 (Epoch 179)\n",
      "Best Test F1: 0.8851 (Epoch 160)\n"
     ]
    },
    {
     "name": "stderr",
     "output_type": "stream",
     "text": [
      "100%|██████████| 65/65 [00:00<00:00, 101.04it/s]\n"
     ]
    },
    {
     "name": "stdout",
     "output_type": "stream",
     "text": [
      "Epoch 194: Train Loss: 0.0496, Test Loss: 0.0520\n",
      "Train F1: 0.8874, Test F1: 0.8836\n",
      "Best Test Loss: 0.0511 (Epoch 179)\n",
      "Best Test F1: 0.8851 (Epoch 160)\n"
     ]
    },
    {
     "name": "stderr",
     "output_type": "stream",
     "text": [
      "100%|██████████| 65/65 [00:00<00:00, 101.31it/s]\n"
     ]
    },
    {
     "name": "stdout",
     "output_type": "stream",
     "text": [
      "Epoch 195: Train Loss: 0.0496, Test Loss: 0.0510\n",
      "Train F1: 0.8883, Test F1: 0.8833\n",
      "Best Test Loss: 0.0510 (Epoch 195)\n",
      "Best Test F1: 0.8851 (Epoch 160)\n"
     ]
    },
    {
     "name": "stderr",
     "output_type": "stream",
     "text": [
      "100%|██████████| 65/65 [00:00<00:00, 102.41it/s]\n"
     ]
    },
    {
     "name": "stdout",
     "output_type": "stream",
     "text": [
      "Epoch 196: Train Loss: 0.0494, Test Loss: 0.0521\n",
      "Train F1: 0.8887, Test F1: 0.8840\n",
      "Best Test Loss: 0.0510 (Epoch 195)\n",
      "Best Test F1: 0.8851 (Epoch 160)\n"
     ]
    },
    {
     "name": "stderr",
     "output_type": "stream",
     "text": [
      "100%|██████████| 65/65 [00:00<00:00, 102.50it/s]\n"
     ]
    },
    {
     "name": "stdout",
     "output_type": "stream",
     "text": [
      "Epoch 197: Train Loss: 0.0494, Test Loss: 0.0516\n",
      "Train F1: 0.8886, Test F1: 0.8850\n",
      "Best Test Loss: 0.0510 (Epoch 195)\n",
      "Best Test F1: 0.8851 (Epoch 160)\n"
     ]
    },
    {
     "name": "stderr",
     "output_type": "stream",
     "text": [
      "100%|██████████| 65/65 [00:00<00:00, 102.64it/s]\n"
     ]
    },
    {
     "name": "stdout",
     "output_type": "stream",
     "text": [
      "Epoch 198: Train Loss: 0.0495, Test Loss: 0.0515\n",
      "Train F1: 0.8881, Test F1: 0.8841\n",
      "Best Test Loss: 0.0510 (Epoch 195)\n",
      "Best Test F1: 0.8851 (Epoch 160)\n"
     ]
    },
    {
     "name": "stderr",
     "output_type": "stream",
     "text": [
      "100%|██████████| 65/65 [00:00<00:00, 102.53it/s]\n"
     ]
    },
    {
     "name": "stdout",
     "output_type": "stream",
     "text": [
      "Epoch 199: Train Loss: 0.0495, Test Loss: 0.0513\n",
      "Train F1: 0.8882, Test F1: 0.8839\n",
      "Best Test Loss: 0.0510 (Epoch 195)\n",
      "Best Test F1: 0.8851 (Epoch 160)\n"
     ]
    },
    {
     "name": "stderr",
     "output_type": "stream",
     "text": [
      "100%|██████████| 65/65 [00:00<00:00, 102.55it/s]\n"
     ]
    },
    {
     "name": "stdout",
     "output_type": "stream",
     "text": [
      "Epoch 200: Train Loss: 0.0493, Test Loss: 0.0539\n",
      "Train F1: 0.8896, Test F1: 0.8832\n",
      "Best Test Loss: 0.0510 (Epoch 195)\n",
      "Best Test F1: 0.8851 (Epoch 160)\n"
     ]
    },
    {
     "name": "stderr",
     "output_type": "stream",
     "text": [
      "100%|██████████| 65/65 [00:00<00:00, 102.55it/s]\n"
     ]
    }
   ],
   "source": [
    "\n",
    "validation_frequency_epochs = 1\n",
    "best_dev_loss = torch.inf\n",
    "best_dev_loss_epoch = 0\n",
    "best_dev_f1 = 0\n",
    "best_dev_f1_epoch = 0\n",
    "ma_window_size = 10\n",
    "\n",
    "model.to(device)\n",
    "model.train()\n",
    "\n",
    "trainlossi = []\n",
    "testlossi = []\n",
    "train_f1s = []\n",
    "test_f1s = []\n",
    "\n",
    "for epoch in range(1000):\n",
    "    epoch_train_f1s = []  # Collect F1s for each batch in this epoch\n",
    "    epoch_train_losses = []  # Collect losses for each batch in this epoch\n",
    "    \n",
    "    for Xi, yi in tqdm(trainloader):\n",
    "        Xi, yi = Xi.to(device), yi.to(device)    \n",
    "        logits = model(Xi)\n",
    "        optimizer.zero_grad()\n",
    "        loss = criterion(logits, yi)\n",
    "        loss.backward()\n",
    "        optimizer.step()\n",
    "        \n",
    "        # Calculate and store F1 for this batch\n",
    "        batch_f1 = calculate_f1(logits, yi)\n",
    "        epoch_train_f1s.append(batch_f1)\n",
    "        epoch_train_losses.append(loss.item())\n",
    "    \n",
    "    # Add average loss and F1 for this epoch\n",
    "    trainlossi.extend(epoch_train_losses)\n",
    "    train_f1s.append(np.mean(epoch_train_f1s))\n",
    "    \n",
    "    if epoch % validation_frequency_epochs == 0:\n",
    "        model.eval()\n",
    "        all_test_preds = []\n",
    "        all_test_labels = []\n",
    "        test_losses = []\n",
    "\n",
    "        with torch.no_grad():\n",
    "            for Xi, yi in testloader:\n",
    "                Xi, yi = Xi.to(device), yi.to(device)\n",
    "                logits = model(Xi)\n",
    "                loss = criterion(logits, yi)\n",
    "                test_losses.append(loss.item())\n",
    "                all_test_preds.append(logits.argmax(dim=1))\n",
    "                all_test_labels.append(yi.argmax(dim=1))\n",
    "            all_test_preds = torch.cat(all_test_preds).cpu()\n",
    "            all_test_labels = torch.cat(all_test_labels).cpu()\n",
    "            avg_test_loss = np.mean(test_losses)\n",
    "            test_f1 = f1_score(all_test_labels, all_test_preds, average='macro')\n",
    "\n",
    "            testlossi.append(avg_test_loss)\n",
    "            test_f1s.append(test_f1)\n",
    "\n",
    "            # Track best model by loss\n",
    "            if avg_test_loss < best_dev_loss:\n",
    "                best_dev_loss = avg_test_loss\n",
    "                best_dev_loss_epoch = epoch\n",
    "                torch.save(model.state_dict(), '../models/best_model_by_loss.pt')\n",
    "                \n",
    "            # Track best model by F1\n",
    "            if test_f1 > best_dev_f1:\n",
    "                best_dev_f1 = test_f1\n",
    "                best_dev_f1_epoch = epoch\n",
    "                torch.save(model.state_dict(), '../models/best_model_by_f1.pt')\n",
    "                \n",
    "            # Call the updated plotting function with both loss and F1 data\n",
    "            plot_training_progress(\n",
    "                trainlossi,\n",
    "                testlossi,\n",
    "                train_f1s,\n",
    "                test_f1s,\n",
    "                ma_window_size,\n",
    "                '../models/training_metrics.jpg'\n",
    "            )\n",
    "            print(f\"Epoch {epoch}: Train Loss: {np.mean(epoch_train_losses):.4f}, Test Loss: {avg_test_loss:.4f}\")\n",
    "            print(f\"Train F1: {train_f1s[-1]:.4f}, Test F1: {test_f1:.4f}\")\n",
    "            print(f\"Best Test Loss: {best_dev_loss:.4f} (Epoch {best_dev_loss_epoch})\")\n",
    "            print(f\"Best Test F1: {best_dev_f1:.4f} (Epoch {best_dev_f1_epoch})\")\n",
    "\n",
    "\n",
    "y = torch.vstack([torch.vstack([model(Xi.to(device)).softmax(dim=1).argmax(dim=1).detach().cpu(),yi.argmax(dim=1).detach().cpu()]).T for Xi,yi in trainloader])\n",
    "y_pred = y[:,0]\n",
    "y_true = y[:,1]\n",
    "print(classification_report(y_true=y_true,y_pred=y_pred))\n",
    "ConfusionMatrixDisplay.from_predictions(y_true,y_pred)\n",
    "\n",
    "y = torch.vstack([torch.vstack([model(Xi.to(device)).softmax(dim=1).argmax(dim=1).detach().cpu(),yi.argmax(dim=1).detach().cpu()]).T for Xi,yi in testloader])\n",
    "y_pred = y[:,0]\n",
    "y_true = y[:,1]\n",
    "print(classification_report(y_true=y_true,y_pred=y_pred))\n",
    "ConfusionMatrixDisplay.from_predictions(y_true,y_pred)"
   ]
  },
  {
   "cell_type": "code",
   "execution_count": null,
   "metadata": {},
   "outputs": [],
   "source": []
  }
 ],
 "metadata": {
  "kernelspec": {
   "display_name": "Python 3",
   "language": "python",
   "name": "python3"
  },
  "language_info": {
   "codemirror_mode": {
    "name": "ipython",
    "version": 3
   },
   "file_extension": ".py",
   "mimetype": "text/x-python",
   "name": "python",
   "nbconvert_exporter": "python",
   "pygments_lexer": "ipython3",
   "version": "3.10.12"
  }
 },
 "nbformat": 4,
 "nbformat_minor": 2
}
